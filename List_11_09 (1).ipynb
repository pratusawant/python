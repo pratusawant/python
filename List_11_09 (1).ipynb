{
  "nbformat": 4,
  "nbformat_minor": 0,
  "metadata": {
    "colab": {
      "provenance": []
    },
    "kernelspec": {
      "name": "python3",
      "display_name": "Python 3"
    },
    "language_info": {
      "name": "python"
    }
  },
  "cells": [
    {
      "cell_type": "markdown",
      "source": [
        "List -> Mutable -> changbale (modify)\n",
        "=> list is collection different ele(DT).\n",
        "=> []  -> size varray -> var_name = []\n",
        "=> Advance version array  -> array faster as compare to list\n",
        "=> duplicate allow"
      ],
      "metadata": {
        "id": "OlXf5YIpCqIx"
      }
    },
    {
      "cell_type": "code",
      "source": [
        "l = [1111,2,3,4,5,5,\"Harsh\",True,22.2]\n",
        "print(l)"
      ],
      "metadata": {
        "colab": {
          "base_uri": "https://localhost:8080/"
        },
        "id": "lNSybRAuChOw",
        "outputId": "708bcff4-efbe-44bc-eaff-b188b082ed36"
      },
      "execution_count": null,
      "outputs": [
        {
          "output_type": "stream",
          "name": "stdout",
          "text": [
            "[1111, 2, 3, 4, 5, 5, 'Harsh', True, 22.2]\n"
          ]
        }
      ]
    },
    {
      "cell_type": "code",
      "source": [
        "l.index(3)"
      ],
      "metadata": {
        "colab": {
          "base_uri": "https://localhost:8080/"
        },
        "id": "aQ0zYIblHL_U",
        "outputId": "cfd0a76e-2e50-4fb9-e6c2-6c9d3cfb5dcb"
      },
      "execution_count": null,
      "outputs": [
        {
          "output_type": "execute_result",
          "data": {
            "text/plain": [
              "2"
            ]
          },
          "metadata": {},
          "execution_count": 13
        }
      ]
    },
    {
      "cell_type": "code",
      "source": [
        "l.find(3)"
      ],
      "metadata": {
        "colab": {
          "base_uri": "https://localhost:8080/",
          "height": 148
        },
        "id": "Zt1cg2GuHepX",
        "outputId": "333075f0-4861-40f4-e03f-e2a6a85bb560"
      },
      "execution_count": null,
      "outputs": [
        {
          "output_type": "error",
          "ename": "AttributeError",
          "evalue": "'list' object has no attribute 'find'",
          "traceback": [
            "\u001b[0;31m---------------------------------------------------------------------------\u001b[0m",
            "\u001b[0;31mAttributeError\u001b[0m                            Traceback (most recent call last)",
            "\u001b[0;32m<ipython-input-14-5fab7a2e12da>\u001b[0m in \u001b[0;36m<cell line: 1>\u001b[0;34m()\u001b[0m\n\u001b[0;32m----> 1\u001b[0;31m \u001b[0ml\u001b[0m\u001b[0;34m.\u001b[0m\u001b[0mfind\u001b[0m\u001b[0;34m(\u001b[0m\u001b[0;36m3\u001b[0m\u001b[0;34m)\u001b[0m\u001b[0;34m\u001b[0m\u001b[0;34m\u001b[0m\u001b[0m\n\u001b[0m",
            "\u001b[0;31mAttributeError\u001b[0m: 'list' object has no attribute 'find'"
          ]
        }
      ]
    },
    {
      "cell_type": "code",
      "source": [
        "print(type(l))\n",
        "print(len(l))"
      ],
      "metadata": {
        "colab": {
          "base_uri": "https://localhost:8080/"
        },
        "id": "dJypumy9F3FN",
        "outputId": "674a6fb5-6bc0-424a-f847-99c5555df760"
      },
      "execution_count": null,
      "outputs": [
        {
          "output_type": "stream",
          "name": "stdout",
          "text": [
            "<class 'list'>\n",
            "9\n"
          ]
        }
      ]
    },
    {
      "cell_type": "code",
      "source": [
        "print(l[8])"
      ],
      "metadata": {
        "colab": {
          "base_uri": "https://localhost:8080/"
        },
        "id": "tNpUkSsxHB5f",
        "outputId": "3546a376-900e-49df-a514-ba959fcf5cf3"
      },
      "execution_count": null,
      "outputs": [
        {
          "output_type": "stream",
          "name": "stdout",
          "text": [
            "22.2\n"
          ]
        }
      ]
    },
    {
      "cell_type": "code",
      "source": [
        "s = \"Hello\"\n",
        "print(len(s))"
      ],
      "metadata": {
        "colab": {
          "base_uri": "https://localhost:8080/"
        },
        "id": "KU9wkYruGNlg",
        "outputId": "e285d4a0-e425-4aa1-f55d-2a221b0669ee"
      },
      "execution_count": null,
      "outputs": [
        {
          "output_type": "stream",
          "name": "stdout",
          "text": [
            "5\n"
          ]
        }
      ]
    },
    {
      "cell_type": "code",
      "source": [
        "print(l)"
      ],
      "metadata": {
        "colab": {
          "base_uri": "https://localhost:8080/"
        },
        "id": "7XvKSgX2GgzK",
        "outputId": "d6c39ff3-3b68-4acd-d5a8-85d1aacec8a8"
      },
      "execution_count": null,
      "outputs": [
        {
          "output_type": "stream",
          "name": "stdout",
          "text": [
            "[1111, 2, 3, 4, 5, 5, 'Harsh', True, 22.2]\n"
          ]
        }
      ]
    },
    {
      "cell_type": "code",
      "source": [
        "l.count(5)"
      ],
      "metadata": {
        "colab": {
          "base_uri": "https://localhost:8080/"
        },
        "id": "kAIe6wIPH1KC",
        "outputId": "96ffb2ef-8dc4-4bdd-966d-aac3f384b469"
      },
      "execution_count": null,
      "outputs": [
        {
          "output_type": "execute_result",
          "data": {
            "text/plain": [
              "2"
            ]
          },
          "metadata": {},
          "execution_count": 16
        }
      ]
    },
    {
      "cell_type": "code",
      "source": [
        "print(l[-2:])"
      ],
      "metadata": {
        "colab": {
          "base_uri": "https://localhost:8080/"
        },
        "id": "JzBEsySeH7ZP",
        "outputId": "7d196f0c-f3d3-46be-bdb5-2c22343ce0fa"
      },
      "execution_count": null,
      "outputs": [
        {
          "output_type": "stream",
          "name": "stdout",
          "text": [
            "[True, 22.2]\n"
          ]
        }
      ]
    },
    {
      "cell_type": "code",
      "source": [
        "#print 2,3,4 and 22.2\n",
        "print(l[1:4])\n",
        "print(l[-1:])"
      ],
      "metadata": {
        "colab": {
          "base_uri": "https://localhost:8080/"
        },
        "id": "wAmLiOksITBh",
        "outputId": "3fda48be-72e5-4aa3-f28a-a9c0a3115315"
      },
      "execution_count": null,
      "outputs": [
        {
          "output_type": "stream",
          "name": "stdout",
          "text": [
            "[2, 3, 4]\n",
            "[22.2]\n"
          ]
        }
      ]
    },
    {
      "cell_type": "code",
      "source": [
        "l[1:4]+l[-1:]"
      ],
      "metadata": {
        "colab": {
          "base_uri": "https://localhost:8080/"
        },
        "id": "rFsOY6_2IrdM",
        "outputId": "741f3c46-5230-484c-becd-9fb443f45a21"
      },
      "execution_count": null,
      "outputs": [
        {
          "output_type": "execute_result",
          "data": {
            "text/plain": [
              "[2, 3, 4, 22.2]"
            ]
          },
          "metadata": {},
          "execution_count": 22
        }
      ]
    },
    {
      "cell_type": "code",
      "source": [
        "l"
      ],
      "metadata": {
        "colab": {
          "base_uri": "https://localhost:8080/"
        },
        "id": "ub1pFFjBJl52",
        "outputId": "64b19c36-6d0e-4fd9-b76e-b8f535fe2372"
      },
      "execution_count": null,
      "outputs": [
        {
          "output_type": "execute_result",
          "data": {
            "text/plain": [
              "[1111, 2, 3, 4, 5, 5, 'Harsh', True, 22.2]"
            ]
          },
          "metadata": {},
          "execution_count": 23
        }
      ]
    },
    {
      "cell_type": "code",
      "source": [
        "l*2"
      ],
      "metadata": {
        "colab": {
          "base_uri": "https://localhost:8080/"
        },
        "id": "fuv_s56BI0CX",
        "outputId": "8135e069-82bd-4f60-f0b9-f1facb6ca727"
      },
      "execution_count": null,
      "outputs": [
        {
          "output_type": "execute_result",
          "data": {
            "text/plain": [
              "[1111,\n",
              " 2,\n",
              " 3,\n",
              " 4,\n",
              " 5,\n",
              " 5,\n",
              " 'Harsh',\n",
              " True,\n",
              " 22.2,\n",
              " 1111,\n",
              " 2,\n",
              " 3,\n",
              " 4,\n",
              " 5,\n",
              " 5,\n",
              " 'Harsh',\n",
              " True,\n",
              " 22.2]"
            ]
          },
          "metadata": {},
          "execution_count": 24
        }
      ]
    },
    {
      "cell_type": "code",
      "source": [
        "p = \"Hello\"\n",
        "p*2"
      ],
      "metadata": {
        "colab": {
          "base_uri": "https://localhost:8080/",
          "height": 36
        },
        "id": "kpIvabAQJofo",
        "outputId": "282ff851-ac7e-4890-bd97-db22fa049ee6"
      },
      "execution_count": null,
      "outputs": [
        {
          "output_type": "execute_result",
          "data": {
            "text/plain": [
              "'HelloHello'"
            ],
            "application/vnd.google.colaboratory.intrinsic+json": {
              "type": "string"
            }
          },
          "metadata": {},
          "execution_count": 25
        }
      ]
    },
    {
      "cell_type": "code",
      "source": [
        "# print hello 5 times with including spaces"
      ],
      "metadata": {
        "id": "mW5WN8QYJutc"
      },
      "execution_count": null,
      "outputs": []
    },
    {
      "cell_type": "code",
      "source": [
        "l"
      ],
      "metadata": {
        "colab": {
          "base_uri": "https://localhost:8080/"
        },
        "id": "_mGPhx_rJ6Q0",
        "outputId": "75cbb1cf-113c-4e0d-a5cd-d0adb8987ce6"
      },
      "execution_count": null,
      "outputs": [
        {
          "output_type": "execute_result",
          "data": {
            "text/plain": [
              "[1111, 2, 3, 4, 5, 5, 'Harsh', True, 22.2]"
            ]
          },
          "metadata": {},
          "execution_count": 26
        }
      ]
    },
    {
      "cell_type": "code",
      "source": [
        "l[-2]=False  # replacing ele\n",
        "l"
      ],
      "metadata": {
        "colab": {
          "base_uri": "https://localhost:8080/"
        },
        "id": "0FetmjDmJ6hm",
        "outputId": "be3a9c09-9773-497f-8ecb-3e524fe840a7"
      },
      "execution_count": null,
      "outputs": [
        {
          "output_type": "execute_result",
          "data": {
            "text/plain": [
              "[1111, 2, 3, 4, 5, 5, 'Harsh', False, 22.2]"
            ]
          },
          "metadata": {},
          "execution_count": 28
        }
      ]
    },
    {
      "cell_type": "code",
      "source": [
        "# Pune,mumbai,karad replace with last 3 ele\n",
        "l[-3:]=\"pune\",\"Mumbai\",\"Karad\"\n",
        "l\n"
      ],
      "metadata": {
        "colab": {
          "base_uri": "https://localhost:8080/"
        },
        "id": "8vBhEc9LKEDk",
        "outputId": "2f06103f-a9cd-4390-d1ac-15003b73f78a"
      },
      "execution_count": null,
      "outputs": [
        {
          "output_type": "execute_result",
          "data": {
            "text/plain": [
              "[1111, 2, 3, 4, 5, 5, 'pune', 'Mumbai', 'Karad']"
            ]
          },
          "metadata": {},
          "execution_count": 29
        }
      ]
    },
    {
      "cell_type": "code",
      "source": [
        "l[-2:]=[10,20]\n",
        "l"
      ],
      "metadata": {
        "colab": {
          "base_uri": "https://localhost:8080/"
        },
        "id": "awpHkg4vKtkf",
        "outputId": "9a37345f-d59e-42e8-db86-13499ac21220"
      },
      "execution_count": null,
      "outputs": [
        {
          "output_type": "execute_result",
          "data": {
            "text/plain": [
              "[1111, 2, 3, 4, 5, 5, 'pune', 10, 20]"
            ]
          },
          "metadata": {},
          "execution_count": 31
        }
      ]
    },
    {
      "cell_type": "code",
      "source": [
        "l.append(\"Kolhapur\") # single ele add at the end\n",
        "l"
      ],
      "metadata": {
        "colab": {
          "base_uri": "https://localhost:8080/"
        },
        "id": "P7_qj2QXK_Xl",
        "outputId": "0fdd7569-1d00-4e66-ad0c-784eb9821bc0"
      },
      "execution_count": null,
      "outputs": [
        {
          "output_type": "execute_result",
          "data": {
            "text/plain": [
              "[1111, 2, 3, 4, 5, 5, 'pune', 10, 20, 'Kolhapur']"
            ]
          },
          "metadata": {},
          "execution_count": 32
        }
      ]
    },
    {
      "cell_type": "code",
      "source": [
        "l.append(\"katraj\",\"iskon\") # single ele add at the end\n",
        "l"
      ],
      "metadata": {
        "colab": {
          "base_uri": "https://localhost:8080/",
          "height": 166
        },
        "id": "gS33i0emMA5p",
        "outputId": "abfc175a-5106-4615-f7a5-0bc677800d4c"
      },
      "execution_count": null,
      "outputs": [
        {
          "output_type": "error",
          "ename": "TypeError",
          "evalue": "list.append() takes exactly one argument (2 given)",
          "traceback": [
            "\u001b[0;31m---------------------------------------------------------------------------\u001b[0m",
            "\u001b[0;31mTypeError\u001b[0m                                 Traceback (most recent call last)",
            "\u001b[0;32m<ipython-input-33-51da7cde425b>\u001b[0m in \u001b[0;36m<cell line: 1>\u001b[0;34m()\u001b[0m\n\u001b[0;32m----> 1\u001b[0;31m \u001b[0ml\u001b[0m\u001b[0;34m.\u001b[0m\u001b[0mappend\u001b[0m\u001b[0;34m(\u001b[0m\u001b[0;34m\"katraj\"\u001b[0m\u001b[0;34m,\u001b[0m\u001b[0;34m\"iskon\"\u001b[0m\u001b[0;34m)\u001b[0m \u001b[0;31m# single ele add at the end\u001b[0m\u001b[0;34m\u001b[0m\u001b[0;34m\u001b[0m\u001b[0m\n\u001b[0m\u001b[1;32m      2\u001b[0m \u001b[0ml\u001b[0m\u001b[0;34m\u001b[0m\u001b[0;34m\u001b[0m\u001b[0m\n",
            "\u001b[0;31mTypeError\u001b[0m: list.append() takes exactly one argument (2 given)"
          ]
        }
      ]
    },
    {
      "cell_type": "code",
      "source": [
        "l.append([\"katraj\",\"iskon\"])  # dont use\n",
        "l"
      ],
      "metadata": {
        "colab": {
          "base_uri": "https://localhost:8080/"
        },
        "id": "ho_aywO_MGLx",
        "outputId": "6cc00076-91c9-45dd-d592-faddf952009d"
      },
      "execution_count": null,
      "outputs": [
        {
          "output_type": "execute_result",
          "data": {
            "text/plain": [
              "[1111, 2, 3, 4, 5, 5, 'pune', 10, 20, 'Kolhapur', ['katraj', 'iskon']]"
            ]
          },
          "metadata": {},
          "execution_count": 34
        }
      ]
    },
    {
      "cell_type": "code",
      "source": [
        "l.extend([\"katraj\",\"iskon\"])  # multiple ele add at the end\n",
        "l"
      ],
      "metadata": {
        "colab": {
          "base_uri": "https://localhost:8080/"
        },
        "id": "8jS-fNYfMUGM",
        "outputId": "599aad7c-e564-43bd-d179-6e1ef78f1299"
      },
      "execution_count": null,
      "outputs": [
        {
          "output_type": "execute_result",
          "data": {
            "text/plain": [
              "[1111,\n",
              " 2,\n",
              " 3,\n",
              " 4,\n",
              " 5,\n",
              " 5,\n",
              " 'pune',\n",
              " 10,\n",
              " 20,\n",
              " 'Kolhapur',\n",
              " ['katraj', 'iskon'],\n",
              " 'katraj',\n",
              " 'iskon']"
            ]
          },
          "metadata": {},
          "execution_count": 35
        }
      ]
    },
    {
      "cell_type": "code",
      "source": [
        "l[0]=\"data\"  #replace\n",
        "print(l)"
      ],
      "metadata": {
        "colab": {
          "base_uri": "https://localhost:8080/"
        },
        "id": "7JRMOWRSMkXc",
        "outputId": "140a5a81-3697-4b54-c556-a28b88fee316"
      },
      "execution_count": null,
      "outputs": [
        {
          "output_type": "stream",
          "name": "stdout",
          "text": [
            "['data', 2, 3, 4, 5, 5, 'pune', 10, 20, 'Kolhapur', ['katraj', 'iskon'], 'katraj', 'iskon']\n"
          ]
        }
      ]
    },
    {
      "cell_type": "code",
      "source": [
        "l.insert(0,\"Karve_nagar\")\n",
        "print(l)"
      ],
      "metadata": {
        "colab": {
          "base_uri": "https://localhost:8080/"
        },
        "id": "myyS-pLONEQm",
        "outputId": "0aaac5be-77b6-414e-9f69-8db8bcf5437b"
      },
      "execution_count": null,
      "outputs": [
        {
          "output_type": "stream",
          "name": "stdout",
          "text": [
            "['Karve_nagar', 'data', 2, 3, 4, 5, 5, 'pune', 10, 20, 'Kolhapur', ['katraj', 'iskon'], 'katraj', 'iskon']\n"
          ]
        }
      ]
    },
    {
      "cell_type": "code",
      "source": [
        "l.pop() # by defualt it will delete last ele"
      ],
      "metadata": {
        "colab": {
          "base_uri": "https://localhost:8080/",
          "height": 36
        },
        "id": "cFzEm9QTNI9V",
        "outputId": "8cbfd30c-6b5d-440b-9ddb-d81620124b22"
      },
      "execution_count": null,
      "outputs": [
        {
          "output_type": "execute_result",
          "data": {
            "text/plain": [
              "'iskon'"
            ],
            "application/vnd.google.colaboratory.intrinsic+json": {
              "type": "string"
            }
          },
          "metadata": {},
          "execution_count": 38
        }
      ]
    },
    {
      "cell_type": "code",
      "source": [
        "print(l)"
      ],
      "metadata": {
        "colab": {
          "base_uri": "https://localhost:8080/"
        },
        "id": "Xt03nW7vNygX",
        "outputId": "9814c8d5-8ad5-451b-843c-1f11074cd0be"
      },
      "execution_count": null,
      "outputs": [
        {
          "output_type": "stream",
          "name": "stdout",
          "text": [
            "['Karve_nagar', 'data', 2, 3, 4, 5, 5, 'pune', 10, 20, 'Kolhapur', ['katraj', 'iskon'], 'katraj']\n"
          ]
        }
      ]
    },
    {
      "cell_type": "code",
      "source": [
        "l.pop(5)\n",
        "print(l)"
      ],
      "metadata": {
        "colab": {
          "base_uri": "https://localhost:8080/"
        },
        "id": "DwzvW5VeN0Bb",
        "outputId": "70a872d1-7717-4e38-f65b-01254b16ebcb"
      },
      "execution_count": null,
      "outputs": [
        {
          "output_type": "stream",
          "name": "stdout",
          "text": [
            "['Karve_nagar', 'data', 2, 3, 4, 5, 'pune', 10, 20, 'Kolhapur', ['katraj', 'iskon'], 'katraj']\n"
          ]
        }
      ]
    },
    {
      "cell_type": "code",
      "source": [
        "l.remove(\"pune\")\n",
        "print(l)"
      ],
      "metadata": {
        "colab": {
          "base_uri": "https://localhost:8080/"
        },
        "id": "g8t9xJAMOB01",
        "outputId": "20834c19-0ae4-45a7-9cf3-6a3e05b70190"
      },
      "execution_count": null,
      "outputs": [
        {
          "output_type": "stream",
          "name": "stdout",
          "text": [
            "['Karve_nagar', 'data', 2, 3, 4, 5, 10, 20, 'Kolhapur', ['katraj', 'iskon'], 'katraj']\n"
          ]
        }
      ]
    },
    {
      "cell_type": "code",
      "source": [
        "l.pop(-2)\n"
      ],
      "metadata": {
        "colab": {
          "base_uri": "https://localhost:8080/"
        },
        "id": "cVEOzbLqOJ6h",
        "outputId": "f276e201-6459-4d70-f863-eb1506d0fcec"
      },
      "execution_count": null,
      "outputs": [
        {
          "output_type": "execute_result",
          "data": {
            "text/plain": [
              "['katraj', 'iskon']"
            ]
          },
          "metadata": {},
          "execution_count": 42
        }
      ]
    },
    {
      "cell_type": "code",
      "source": [
        "print(l)"
      ],
      "metadata": {
        "colab": {
          "base_uri": "https://localhost:8080/"
        },
        "id": "cMNBHrRROao_",
        "outputId": "56367918-01eb-4674-ff2d-17c40c9e2593"
      },
      "execution_count": null,
      "outputs": [
        {
          "output_type": "stream",
          "name": "stdout",
          "text": [
            "['Karve_nagar', 'data', 2, 3, 4, 5, 10, 20, 'Kolhapur', 'katraj']\n"
          ]
        }
      ]
    },
    {
      "cell_type": "code",
      "source": [
        "l.append([3,4,5,6,7])\n",
        "print(l)"
      ],
      "metadata": {
        "colab": {
          "base_uri": "https://localhost:8080/"
        },
        "id": "xqOhmVXxOcNS",
        "outputId": "8d0b1ef4-ca56-44f7-8f80-2b15f912462b"
      },
      "execution_count": null,
      "outputs": [
        {
          "output_type": "stream",
          "name": "stdout",
          "text": [
            "['Karve_nagar', 'data', 2, 3, 4, 5, 10, 20, 'Kolhapur', 'katraj', [3, 4, 5, 6, 7]]\n"
          ]
        }
      ]
    },
    {
      "cell_type": "code",
      "source": [
        "#print 6,7\n",
        "l[-1][-2:]"
      ],
      "metadata": {
        "colab": {
          "base_uri": "https://localhost:8080/"
        },
        "id": "IOrWsLB4OqHv",
        "outputId": "3a84a2e0-f872-4d4c-eef6-940cdd1f7738"
      },
      "execution_count": null,
      "outputs": [
        {
          "output_type": "execute_result",
          "data": {
            "text/plain": [
              "[6, 7]"
            ]
          },
          "metadata": {},
          "execution_count": 46
        }
      ]
    },
    {
      "cell_type": "code",
      "source": [
        "l = [1111,2,3,4,5,5,\"Harsh\",True,22.2]\n",
        "print(l)"
      ],
      "metadata": {
        "id": "if-2E0TAPlsV",
        "colab": {
          "base_uri": "https://localhost:8080/"
        },
        "outputId": "048633ee-1354-459b-a45e-e17d79627c2f"
      },
      "execution_count": 1,
      "outputs": [
        {
          "output_type": "stream",
          "name": "stdout",
          "text": [
            "[1111, 2, 3, 4, 5, 5, 'Harsh', True, 22.2]\n"
          ]
        }
      ]
    },
    {
      "cell_type": "code",
      "source": [
        "l.extend([11,23,12])\n",
        "l"
      ],
      "metadata": {
        "colab": {
          "base_uri": "https://localhost:8080/"
        },
        "id": "bT_jnyhga68E",
        "outputId": "6d20f14b-dbf8-4af4-a1c4-2a28e6d16835"
      },
      "execution_count": 14,
      "outputs": [
        {
          "output_type": "execute_result",
          "data": {
            "text/plain": [
              "[1111, 2, 3, 4, 5, 5, 'Harsh', True, 22.2, 11, 11, 21, 22, 11, 23, 12]"
            ]
          },
          "metadata": {},
          "execution_count": 14
        }
      ]
    },
    {
      "cell_type": "code",
      "source": [
        "l2 = [11,11,21,22]\n",
        "l2"
      ],
      "metadata": {
        "colab": {
          "base_uri": "https://localhost:8080/"
        },
        "id": "-W1UGgh8aaXZ",
        "outputId": "1f7d1ce2-946a-49c7-8f56-42dec35090aa"
      },
      "execution_count": 10,
      "outputs": [
        {
          "output_type": "execute_result",
          "data": {
            "text/plain": [
              "[11, 11, 21, 22]"
            ]
          },
          "metadata": {},
          "execution_count": 10
        }
      ]
    },
    {
      "cell_type": "code",
      "source": [
        "l.extend(l2)"
      ],
      "metadata": {
        "id": "LDUliy86aco2"
      },
      "execution_count": 15,
      "outputs": []
    },
    {
      "cell_type": "code",
      "source": [
        "l"
      ],
      "metadata": {
        "colab": {
          "base_uri": "https://localhost:8080/"
        },
        "id": "DamXy_n8asQx",
        "outputId": "17142644-96fb-4933-d64a-4ec41152f238"
      },
      "execution_count": 16,
      "outputs": [
        {
          "output_type": "execute_result",
          "data": {
            "text/plain": [
              "[1111,\n",
              " 2,\n",
              " 3,\n",
              " 4,\n",
              " 5,\n",
              " 5,\n",
              " 'Harsh',\n",
              " True,\n",
              " 22.2,\n",
              " 11,\n",
              " 11,\n",
              " 21,\n",
              " 22,\n",
              " 11,\n",
              " 23,\n",
              " 12,\n",
              " [11, 11, 21, 22]]"
            ]
          },
          "metadata": {},
          "execution_count": 16
        }
      ]
    },
    {
      "cell_type": "code",
      "source": [
        "l1 = [22,22,32,11]\n",
        "l1"
      ],
      "metadata": {
        "colab": {
          "base_uri": "https://localhost:8080/"
        },
        "id": "i4TdBloqZECk",
        "outputId": "8f885dd1-0a43-4cfa-b986-a41a6b271be8"
      },
      "execution_count": 2,
      "outputs": [
        {
          "output_type": "execute_result",
          "data": {
            "text/plain": [
              "[22, 22, 32, 11]"
            ]
          },
          "metadata": {},
          "execution_count": 2
        }
      ]
    },
    {
      "cell_type": "code",
      "source": [
        "s = l+l1\n",
        "print(s)"
      ],
      "metadata": {
        "colab": {
          "base_uri": "https://localhost:8080/"
        },
        "id": "e7Wu7mcYZKHY",
        "outputId": "9a91524a-90b2-4a0d-8616-6c645ad8fb8a"
      },
      "execution_count": 3,
      "outputs": [
        {
          "output_type": "stream",
          "name": "stdout",
          "text": [
            "[1111, 2, 3, 4, 5, 5, 'Harsh', True, 22.2, 22, 22, 32, 11]\n"
          ]
        }
      ]
    },
    {
      "cell_type": "code",
      "source": [
        "l1.append(l)"
      ],
      "metadata": {
        "id": "NX1EXhTXZYwa"
      },
      "execution_count": 7,
      "outputs": []
    },
    {
      "cell_type": "code",
      "source": [
        "l1"
      ],
      "metadata": {
        "colab": {
          "base_uri": "https://localhost:8080/"
        },
        "id": "dJYMWWwtZe88",
        "outputId": "e9ada672-13ed-47ad-ce28-1ec782ebdcff"
      },
      "execution_count": 9,
      "outputs": [
        {
          "output_type": "execute_result",
          "data": {
            "text/plain": [
              "[22,\n",
              " 22,\n",
              " 32,\n",
              " 11,\n",
              " [1111, 2, 3, 4, 5, 5, 'Harsh', True, 22.2],\n",
              " [1111, 2, 3, 4, 5, 5, 'Harsh', True, 22.2],\n",
              " [1111, 2, 3, 4, 5, 5, 'Harsh', True, 22.2]]"
            ]
          },
          "metadata": {},
          "execution_count": 9
        }
      ]
    },
    {
      "cell_type": "code",
      "source": [
        "k = [\"Data\",\"python\",\"Git\",\"Pune\",True,1]\n",
        "print(k)"
      ],
      "metadata": {
        "colab": {
          "base_uri": "https://localhost:8080/"
        },
        "id": "0pwp8QqNZ2ks",
        "outputId": "550be3c9-c98b-476a-9bee-2cac598b895c"
      },
      "execution_count": 25,
      "outputs": [
        {
          "output_type": "stream",
          "name": "stdout",
          "text": [
            "['Data', 'python', 'Git', 'Pune', True, 1]\n"
          ]
        }
      ]
    },
    {
      "cell_type": "code",
      "source": [
        "k.remove([:2])"
      ],
      "metadata": {
        "colab": {
          "base_uri": "https://localhost:8080/",
          "height": 111
        },
        "id": "iX9Dyn-TbfIG",
        "outputId": "19cbdb18-3f06-470a-d6ca-1355002e059c"
      },
      "execution_count": 18,
      "outputs": [
        {
          "output_type": "error",
          "ename": "SyntaxError",
          "evalue": "invalid syntax (<ipython-input-18-2d3c3fad9352>, line 1)",
          "traceback": [
            "\u001b[0;36m  File \u001b[0;32m\"<ipython-input-18-2d3c3fad9352>\"\u001b[0;36m, line \u001b[0;32m1\u001b[0m\n\u001b[0;31m    k.remove([:2])\u001b[0m\n\u001b[0m              ^\u001b[0m\n\u001b[0;31mSyntaxError\u001b[0m\u001b[0;31m:\u001b[0m invalid syntax\n"
          ]
        }
      ]
    },
    {
      "cell_type": "code",
      "source": [
        "k.remove(\"Git\")\n",
        "k"
      ],
      "metadata": {
        "colab": {
          "base_uri": "https://localhost:8080/"
        },
        "id": "Cv2lgN4Rb0oy",
        "outputId": "401e8b8f-4e1e-41ef-f44f-1884e5ffc913"
      },
      "execution_count": 19,
      "outputs": [
        {
          "output_type": "execute_result",
          "data": {
            "text/plain": [
              "['Data', 'python', 'Pune', True, 1]"
            ]
          },
          "metadata": {},
          "execution_count": 19
        }
      ]
    },
    {
      "cell_type": "code",
      "source": [
        "del k[-2:]"
      ],
      "metadata": {
        "id": "KqayiRctb4jZ"
      },
      "execution_count": 21,
      "outputs": []
    },
    {
      "cell_type": "code",
      "source": [
        "print(k)"
      ],
      "metadata": {
        "colab": {
          "base_uri": "https://localhost:8080/"
        },
        "id": "t1VvCBZ6cFrN",
        "outputId": "de89da81-82b7-418b-e5db-5fbf77d6a607"
      },
      "execution_count": 22,
      "outputs": [
        {
          "output_type": "stream",
          "name": "stdout",
          "text": [
            "['Data', 'python', 'Pune']\n"
          ]
        }
      ]
    },
    {
      "cell_type": "code",
      "source": [
        "del k"
      ],
      "metadata": {
        "id": "x9pEENg3cJV2"
      },
      "execution_count": 23,
      "outputs": []
    },
    {
      "cell_type": "code",
      "source": [
        "k"
      ],
      "metadata": {
        "colab": {
          "base_uri": "https://localhost:8080/",
          "height": 148
        },
        "id": "LMmQoWQwchKj",
        "outputId": "98331ad3-b7b6-44b9-85fd-2c248c488ac1"
      },
      "execution_count": 24,
      "outputs": [
        {
          "output_type": "error",
          "ename": "NameError",
          "evalue": "name 'k' is not defined",
          "traceback": [
            "\u001b[0;31m---------------------------------------------------------------------------\u001b[0m",
            "\u001b[0;31mNameError\u001b[0m                                 Traceback (most recent call last)",
            "\u001b[0;32m<ipython-input-24-141b3ea3f03f>\u001b[0m in \u001b[0;36m<cell line: 1>\u001b[0;34m()\u001b[0m\n\u001b[0;32m----> 1\u001b[0;31m \u001b[0mk\u001b[0m\u001b[0;34m\u001b[0m\u001b[0;34m\u001b[0m\u001b[0m\n\u001b[0m",
            "\u001b[0;31mNameError\u001b[0m: name 'k' is not defined"
          ]
        }
      ]
    },
    {
      "cell_type": "markdown",
      "source": [
        "pop\n",
        "remove\n",
        "\n",
        "del -> os import -> del var_name[]"
      ],
      "metadata": {
        "id": "qIeTKbw0cwW9"
      }
    },
    {
      "cell_type": "code",
      "source": [
        "print(k)"
      ],
      "metadata": {
        "colab": {
          "base_uri": "https://localhost:8080/"
        },
        "id": "9chhxueOdB2U",
        "outputId": "1eab497c-77b5-4ba4-c97f-6be8b9ea6131"
      },
      "execution_count": 27,
      "outputs": [
        {
          "output_type": "stream",
          "name": "stdout",
          "text": [
            "['Data', 'python', 'Git', 'Pune', True, 1]\n"
          ]
        }
      ]
    },
    {
      "cell_type": "code",
      "source": [
        "k.clear()"
      ],
      "metadata": {
        "id": "K3Gy-KDfdK_E"
      },
      "execution_count": 28,
      "outputs": []
    },
    {
      "cell_type": "code",
      "source": [
        "k"
      ],
      "metadata": {
        "colab": {
          "base_uri": "https://localhost:8080/"
        },
        "id": "bGOap9PYdQqA",
        "outputId": "ce509371-a545-4639-d76d-08cd17d0dfac"
      },
      "execution_count": 29,
      "outputs": [
        {
          "output_type": "execute_result",
          "data": {
            "text/plain": [
              "[]"
            ]
          },
          "metadata": {},
          "execution_count": 29
        }
      ]
    },
    {
      "cell_type": "code",
      "source": [
        "k"
      ],
      "metadata": {
        "colab": {
          "base_uri": "https://localhost:8080/"
        },
        "id": "J5_v-nmIdRRN",
        "outputId": "1bc293af-39d7-436d-8841-1178b8663eb8"
      },
      "execution_count": 30,
      "outputs": [
        {
          "output_type": "execute_result",
          "data": {
            "text/plain": [
              "[]"
            ]
          },
          "metadata": {},
          "execution_count": 30
        }
      ]
    },
    {
      "cell_type": "code",
      "source": [
        "p = [1,2,3,4]\n",
        "p*3"
      ],
      "metadata": {
        "colab": {
          "base_uri": "https://localhost:8080/"
        },
        "id": "Pc-piiYzdTHn",
        "outputId": "87425504-66cd-4455-d99c-f5dd9f1f855d"
      },
      "execution_count": 32,
      "outputs": [
        {
          "output_type": "execute_result",
          "data": {
            "text/plain": [
              "[1, 2, 3, 4, 1, 2, 3, 4, 1, 2, 3, 4]"
            ]
          },
          "metadata": {},
          "execution_count": 32
        }
      ]
    },
    {
      "cell_type": "markdown",
      "source": [
        "sort() ->\n",
        "reverse()->"
      ],
      "metadata": {
        "id": "jZRUtjXheBua"
      }
    },
    {
      "cell_type": "code",
      "source": [
        "l = [1,2,3]\n",
        "l"
      ],
      "metadata": {
        "colab": {
          "base_uri": "https://localhost:8080/"
        },
        "id": "jch_L15mdmyQ",
        "outputId": "fbf204af-88b1-4eb9-a92d-c733a6602ac3"
      },
      "execution_count": 35,
      "outputs": [
        {
          "output_type": "execute_result",
          "data": {
            "text/plain": [
              "[1, 2, 3]"
            ]
          },
          "metadata": {},
          "execution_count": 35
        }
      ]
    },
    {
      "cell_type": "code",
      "source": [
        "l.sort(reverse=True)"
      ],
      "metadata": {
        "id": "HKFerciWeOSI"
      },
      "execution_count": 38,
      "outputs": []
    },
    {
      "cell_type": "code",
      "source": [
        "l"
      ],
      "metadata": {
        "colab": {
          "base_uri": "https://localhost:8080/"
        },
        "id": "LYLkjBsDeTgb",
        "outputId": "6dc143a2-e213-499e-fbf8-ed8d6aea78ba"
      },
      "execution_count": 39,
      "outputs": [
        {
          "output_type": "execute_result",
          "data": {
            "text/plain": [
              "[3, 2, 1]"
            ]
          },
          "metadata": {},
          "execution_count": 39
        }
      ]
    },
    {
      "cell_type": "code",
      "source": [
        "q = [3,5,1,2,3,5,6]\n",
        "q"
      ],
      "metadata": {
        "colab": {
          "base_uri": "https://localhost:8080/"
        },
        "id": "4fki10LUecwP",
        "outputId": "28cfe572-227d-4bfa-9f60-dbfef113bc83"
      },
      "execution_count": 40,
      "outputs": [
        {
          "output_type": "execute_result",
          "data": {
            "text/plain": [
              "[3, 5, 1, 2, 3, 5, 6]"
            ]
          },
          "metadata": {},
          "execution_count": 40
        }
      ]
    },
    {
      "cell_type": "code",
      "source": [
        "q.reverse()\n"
      ],
      "metadata": {
        "id": "raDeJ30Qe20S"
      },
      "execution_count": 41,
      "outputs": []
    },
    {
      "cell_type": "code",
      "source": [
        "q"
      ],
      "metadata": {
        "colab": {
          "base_uri": "https://localhost:8080/"
        },
        "id": "jM7ryWsNe54b",
        "outputId": "cc7e41a6-234e-47d2-8313-5f98ebe3407a"
      },
      "execution_count": 42,
      "outputs": [
        {
          "output_type": "execute_result",
          "data": {
            "text/plain": [
              "[6, 5, 3, 2, 1, 5, 3]"
            ]
          },
          "metadata": {},
          "execution_count": 42
        }
      ]
    },
    {
      "cell_type": "markdown",
      "source": [
        "copy"
      ],
      "metadata": {
        "id": "JwT7icTJfG4u"
      }
    },
    {
      "cell_type": "code",
      "source": [
        "q"
      ],
      "metadata": {
        "colab": {
          "base_uri": "https://localhost:8080/"
        },
        "id": "bVTMSNc2e6dt",
        "outputId": "d698c392-e269-4102-df3b-1217a5678cfc"
      },
      "execution_count": 43,
      "outputs": [
        {
          "output_type": "execute_result",
          "data": {
            "text/plain": [
              "[6, 5, 3, 2, 1, 5, 3]"
            ]
          },
          "metadata": {},
          "execution_count": 43
        }
      ]
    },
    {
      "cell_type": "code",
      "source": [
        "k = [1,2,3,4]"
      ],
      "metadata": {
        "id": "VSBYNY9TgXNb"
      },
      "execution_count": 48,
      "outputs": []
    },
    {
      "cell_type": "code",
      "source": [
        "a = q,k.copy()\n",
        "a"
      ],
      "metadata": {
        "colab": {
          "base_uri": "https://localhost:8080/"
        },
        "id": "jGGiV486fP2d",
        "outputId": "db5d582b-9e64-4fdb-c653-05ac37c19080"
      },
      "execution_count": 49,
      "outputs": [
        {
          "output_type": "execute_result",
          "data": {
            "text/plain": [
              "([6, 5, 3, 2, 1, 5, 3], [1, 2, 3, 4])"
            ]
          },
          "metadata": {},
          "execution_count": 49
        }
      ]
    },
    {
      "cell_type": "code",
      "source": [
        "q"
      ],
      "metadata": {
        "colab": {
          "base_uri": "https://localhost:8080/"
        },
        "id": "ZEhMiquwfUb-",
        "outputId": "1ea8ce9d-6e97-4d97-d2ed-687aef7dbf75"
      },
      "execution_count": 45,
      "outputs": [
        {
          "output_type": "execute_result",
          "data": {
            "text/plain": [
              "[6, 5, 3, 2, 1, 5, 3]"
            ]
          },
          "metadata": {},
          "execution_count": 45
        }
      ]
    },
    {
      "cell_type": "code",
      "source": [
        "a"
      ],
      "metadata": {
        "colab": {
          "base_uri": "https://localhost:8080/"
        },
        "id": "vxq03yzWfVuN",
        "outputId": "bbf29858-0bba-4e8b-8bee-50805fc034b1"
      },
      "execution_count": 46,
      "outputs": [
        {
          "output_type": "execute_result",
          "data": {
            "text/plain": [
              "[6, 5, 3, 2, 1, 5, 3]"
            ]
          },
          "metadata": {},
          "execution_count": 46
        }
      ]
    },
    {
      "cell_type": "code",
      "source": [
        "k"
      ],
      "metadata": {
        "colab": {
          "base_uri": "https://localhost:8080/"
        },
        "id": "jZsHo0gMfWUb",
        "outputId": "27797950-8441-4c97-c9c1-362b86948fa8"
      },
      "execution_count": 50,
      "outputs": [
        {
          "output_type": "execute_result",
          "data": {
            "text/plain": [
              "[1, 2, 3, 4]"
            ]
          },
          "metadata": {},
          "execution_count": 50
        }
      ]
    },
    {
      "cell_type": "code",
      "source": [
        "l = [1,2,3,3]\n",
        "l"
      ],
      "metadata": {
        "colab": {
          "base_uri": "https://localhost:8080/"
        },
        "id": "gGLi9_hvgj9R",
        "outputId": "4072cc6c-95cd-410d-e90e-5f6101bf23db"
      },
      "execution_count": 1,
      "outputs": [
        {
          "output_type": "execute_result",
          "data": {
            "text/plain": [
              "[1, 2, 3, 3]"
            ]
          },
          "metadata": {},
          "execution_count": 1
        }
      ]
    },
    {
      "cell_type": "code",
      "source": [
        "h = list(l)\n",
        "h"
      ],
      "metadata": {
        "colab": {
          "base_uri": "https://localhost:8080/"
        },
        "id": "mTRn5A5Tgubl",
        "outputId": "d9d2b346-81cb-46b0-dbea-dad42bd5b723"
      },
      "execution_count": 2,
      "outputs": [
        {
          "output_type": "execute_result",
          "data": {
            "text/plain": [
              "[1, 2, 3, 3]"
            ]
          },
          "metadata": {},
          "execution_count": 2
        }
      ]
    },
    {
      "cell_type": "code",
      "source": [
        "k = l[:]\n",
        "k"
      ],
      "metadata": {
        "colab": {
          "base_uri": "https://localhost:8080/"
        },
        "id": "RUNB5chFhK1f",
        "outputId": "4dd40b41-fe5e-4bb8-a689-4f87580f39cb"
      },
      "execution_count": 3,
      "outputs": [
        {
          "output_type": "execute_result",
          "data": {
            "text/plain": [
              "[1, 2, 3, 3]"
            ]
          },
          "metadata": {},
          "execution_count": 3
        }
      ]
    },
    {
      "cell_type": "code",
      "source": [],
      "metadata": {
        "id": "879wYSVIhvYG"
      },
      "execution_count": null,
      "outputs": []
    }
  ]
}