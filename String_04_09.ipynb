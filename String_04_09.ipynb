{
  "nbformat": 4,
  "nbformat_minor": 0,
  "metadata": {
    "colab": {
      "provenance": []
    },
    "kernelspec": {
      "name": "python3",
      "display_name": "Python 3"
    },
    "language_info": {
      "name": "python"
    }
  },
  "cells": [
    {
      "cell_type": "markdown",
      "source": [
        "#String -> collection of char -> alphabet\n",
        "-> if u have number , boolean , but denoted in '' or \"\" called as string\n",
        "\n",
        "123 -> int\n",
        "\"123\" -> string"
      ],
      "metadata": {
        "id": "wBHh4xiFeUvn"
      }
    },
    {
      "cell_type": "code",
      "execution_count": 2,
      "metadata": {
        "colab": {
          "base_uri": "https://localhost:8080/"
        },
        "id": "TCDJZEFHdjXs",
        "outputId": "72570c3e-88ae-4aa5-ac6c-9a4c3d245486"
      },
      "outputs": [
        {
          "output_type": "stream",
          "name": "stdout",
          "text": [
            "123\n",
            "True\n"
          ]
        }
      ],
      "source": [
        "print(123)  # print anything  in a console / terminal we use print function\n",
        "print(True)"
      ]
    },
    {
      "cell_type": "markdown",
      "source": [
        "''  ->\n",
        "\"\" ->\n",
        "''' ''' ->\n",
        "\"\"\" \"\"\" ->"
      ],
      "metadata": {
        "id": "fC5eY-sof7DI"
      }
    },
    {
      "cell_type": "code",
      "source": [
        "print('hello')\n",
        "print(\"hello\")"
      ],
      "metadata": {
        "colab": {
          "base_uri": "https://localhost:8080/"
        },
        "id": "BUBlwpMjfsx_",
        "outputId": "37ba5607-782e-480f-d973-21115414b2a1"
      },
      "execution_count": 3,
      "outputs": [
        {
          "output_type": "stream",
          "name": "stdout",
          "text": [
            "hello\n",
            "hello\n"
          ]
        }
      ]
    },
    {
      "cell_type": "markdown",
      "source": [
        "print does do it will well\n",
        "\n",
        "i'm -> print"
      ],
      "metadata": {
        "id": "ezfTZCZWgHUf"
      }
    },
    {
      "cell_type": "code",
      "source": [
        "print('i'm ')\n",
        "print(\"i'm \")"
      ],
      "metadata": {
        "colab": {
          "base_uri": "https://localhost:8080/",
          "height": 111
        },
        "id": "H4IGcfRvgEUM",
        "outputId": "c0acc5a5-f2b1-49a9-914e-b91c639af8d1"
      },
      "execution_count": 4,
      "outputs": [
        {
          "output_type": "error",
          "ename": "SyntaxError",
          "evalue": "unterminated string literal (detected at line 1) (<ipython-input-4-6d1fa2859b7e>, line 1)",
          "traceback": [
            "\u001b[0;36m  File \u001b[0;32m\"<ipython-input-4-6d1fa2859b7e>\"\u001b[0;36m, line \u001b[0;32m1\u001b[0m\n\u001b[0;31m    print('i'm ')\u001b[0m\n\u001b[0m               ^\u001b[0m\n\u001b[0;31mSyntaxError\u001b[0m\u001b[0;31m:\u001b[0m unterminated string literal (detected at line 1)\n"
          ]
        }
      ]
    },
    {
      "cell_type": "code",
      "source": [
        "print(\"i'm \")\n",
        "print('i'm ')\n"
      ],
      "metadata": {
        "colab": {
          "base_uri": "https://localhost:8080/",
          "height": 111
        },
        "id": "M4jfE6n6gWJF",
        "outputId": "e2446583-a954-4447-8c42-0d8a33b094e5"
      },
      "execution_count": 5,
      "outputs": [
        {
          "output_type": "error",
          "ename": "SyntaxError",
          "evalue": "unterminated string literal (detected at line 2) (<ipython-input-5-4759444d9060>, line 2)",
          "traceback": [
            "\u001b[0;36m  File \u001b[0;32m\"<ipython-input-5-4759444d9060>\"\u001b[0;36m, line \u001b[0;32m2\u001b[0m\n\u001b[0;31m    print('i'm ')\u001b[0m\n\u001b[0m               ^\u001b[0m\n\u001b[0;31mSyntaxError\u001b[0m\u001b[0;31m:\u001b[0m unterminated string literal (detected at line 2)\n"
          ]
        }
      ]
    },
    {
      "cell_type": "markdown",
      "source": [
        "i'm -> \"\"\n",
        "i\"m -> ''"
      ],
      "metadata": {
        "id": "Sc3W4tH9gxt_"
      }
    },
    {
      "cell_type": "code",
      "source": [
        "print(\"i'm \")"
      ],
      "metadata": {
        "colab": {
          "base_uri": "https://localhost:8080/"
        },
        "id": "FfolxgFrgjob",
        "outputId": "bb306630-82f3-49d9-8551-c24c5353f3bf"
      },
      "execution_count": 6,
      "outputs": [
        {
          "output_type": "stream",
          "name": "stdout",
          "text": [
            "i'm \n"
          ]
        }
      ]
    },
    {
      "cell_type": "code",
      "source": [
        "print('i\"m')"
      ],
      "metadata": {
        "colab": {
          "base_uri": "https://localhost:8080/"
        },
        "id": "htGG2QAWg0-h",
        "outputId": "e1e2d631-08ec-4e84-a996-1f7b3b86afed"
      },
      "execution_count": 7,
      "outputs": [
        {
          "output_type": "stream",
          "name": "stdout",
          "text": [
            "i\"m\n"
          ]
        }
      ]
    },
    {
      "cell_type": "code",
      "source": [
        "\"Hi hello My name is\n",
        "Harshdip i m from\n",
        "pune\""
      ],
      "metadata": {
        "colab": {
          "base_uri": "https://localhost:8080/",
          "height": 111
        },
        "id": "3LYaiuF_g-je",
        "outputId": "441e5a7d-2a0a-454f-e8f1-0b17389eda36"
      },
      "execution_count": 8,
      "outputs": [
        {
          "output_type": "error",
          "ename": "SyntaxError",
          "evalue": "unterminated string literal (detected at line 1) (<ipython-input-8-6c1a8cc89bf0>, line 1)",
          "traceback": [
            "\u001b[0;36m  File \u001b[0;32m\"<ipython-input-8-6c1a8cc89bf0>\"\u001b[0;36m, line \u001b[0;32m1\u001b[0m\n\u001b[0;31m    \"Hi hello My name is\u001b[0m\n\u001b[0m    ^\u001b[0m\n\u001b[0;31mSyntaxError\u001b[0m\u001b[0;31m:\u001b[0m unterminated string literal (detected at line 1)\n"
          ]
        }
      ]
    },
    {
      "cell_type": "code",
      "source": [
        "'Hi hello My name is\n",
        "Harshdip i m from\n",
        "pune'"
      ],
      "metadata": {
        "colab": {
          "base_uri": "https://localhost:8080/",
          "height": 111
        },
        "id": "tVpLh5uVhTv7",
        "outputId": "d8dddddf-c440-49ec-ed4e-6a6de77bba1b"
      },
      "execution_count": 9,
      "outputs": [
        {
          "output_type": "error",
          "ename": "SyntaxError",
          "evalue": "unterminated string literal (detected at line 1) (<ipython-input-9-1fccbe400fef>, line 1)",
          "traceback": [
            "\u001b[0;36m  File \u001b[0;32m\"<ipython-input-9-1fccbe400fef>\"\u001b[0;36m, line \u001b[0;32m1\u001b[0m\n\u001b[0;31m    'Hi hello My name is\u001b[0m\n\u001b[0m    ^\u001b[0m\n\u001b[0;31mSyntaxError\u001b[0m\u001b[0;31m:\u001b[0m unterminated string literal (detected at line 1)\n"
          ]
        }
      ]
    },
    {
      "cell_type": "code",
      "source": [
        "'''Hi hello My name is\n",
        "Harshdip i m from\n",
        "pune'''"
      ],
      "metadata": {
        "colab": {
          "base_uri": "https://localhost:8080/",
          "height": 36
        },
        "id": "Gery3cGUhW-x",
        "outputId": "89628820-f311-4da8-e2a9-d64d77e4b184"
      },
      "execution_count": 10,
      "outputs": [
        {
          "output_type": "execute_result",
          "data": {
            "text/plain": [
              "'Hi hello My name is \\nHarshdip i m from\\npune'"
            ],
            "application/vnd.google.colaboratory.intrinsic+json": {
              "type": "string"
            }
          },
          "metadata": {},
          "execution_count": 10
        }
      ]
    },
    {
      "cell_type": "code",
      "source": [
        "\"\"\"Hi hello My name is\n",
        "Harshdip i m from\n",
        "pune\"\"\""
      ],
      "metadata": {
        "colab": {
          "base_uri": "https://localhost:8080/",
          "height": 36
        },
        "id": "0zpj3OJ6hhID",
        "outputId": "73c2403b-10c4-4c6f-da6d-93b80a598961"
      },
      "execution_count": 11,
      "outputs": [
        {
          "output_type": "execute_result",
          "data": {
            "text/plain": [
              "'Hi hello My name is \\nHarshdip i m from\\npune'"
            ],
            "application/vnd.google.colaboratory.intrinsic+json": {
              "type": "string"
            }
          },
          "metadata": {},
          "execution_count": 11
        }
      ]
    },
    {
      "cell_type": "code",
      "source": [
        "\"\"\"Hi hello My name is\n",
        "Harshdip i'm from\n",
        "pune\"\"\""
      ],
      "metadata": {
        "colab": {
          "base_uri": "https://localhost:8080/",
          "height": 36
        },
        "id": "HngXHQtlhkSx",
        "outputId": "4e8fe9d7-9027-47c5-e4e7-951c54bdae7b"
      },
      "execution_count": 12,
      "outputs": [
        {
          "output_type": "execute_result",
          "data": {
            "text/plain": [
              "\"Hi hello My name is \\nHarshdip i'm from\\npune\""
            ],
            "application/vnd.google.colaboratory.intrinsic+json": {
              "type": "string"
            }
          },
          "metadata": {},
          "execution_count": 12
        }
      ]
    },
    {
      "cell_type": "code",
      "source": [
        "\"\"\"Hi hello My name is\n",
        "Harshdip i\"m from\n",
        "pune\"\"\""
      ],
      "metadata": {
        "colab": {
          "base_uri": "https://localhost:8080/",
          "height": 36
        },
        "id": "7Je7X79Eh3tN",
        "outputId": "719a29b2-1272-447c-a5fc-c18a8077e551"
      },
      "execution_count": 13,
      "outputs": [
        {
          "output_type": "execute_result",
          "data": {
            "text/plain": [
              "'Hi hello My name is \\nHarshdip i\"m from\\npune'"
            ],
            "application/vnd.google.colaboratory.intrinsic+json": {
              "type": "string"
            }
          },
          "metadata": {},
          "execution_count": 13
        }
      ]
    },
    {
      "cell_type": "markdown",
      "source": [
        "#Var ->  single line def -> single word -> Container"
      ],
      "metadata": {
        "id": "K6GmSKVTiOj5"
      }
    },
    {
      "cell_type": "markdown",
      "source": [
        "Rules\n",
        "1. keyword not allow\n",
        "2. can not number\n",
        "3. special symbol not\n",
        "4. _ and letter and number allow\n",
        "5. space not allow\n",
        "6. can not start with number(digit)\n",
        "7. in var dont use capital letter -> class\n",
        "ex., a = 1 , a1=\"Harsh\" , A = \"Harsh\", aA = \"Harsh\"\n",
        "\n",
        "\n",
        "Declare variable with all data type (int,float,string,boolen)"
      ],
      "metadata": {
        "id": "kJuy2WEojT_Y"
      }
    },
    {
      "cell_type": "markdown",
      "source": [
        "#HomeWork\n",
        "\n",
        "1.Create three variables:\n",
        " i.age and assign it your age as an integer.\n",
        "ii.name and assign it your full name as a string.\n",
        "iii.is_student and assign it the value True or False iv.based on whether you are currently a student.\n",
        "\n",
        "2. Which are correct Varible below\n",
        "i.2nd_name  \n",
        "ii.my-name\n",
        "iii.True\n",
        "\n",
        "3. Create a String:\n",
        "\n",
        "Define a string variable named my_string and assign it the value \"Hello, World!\""
      ],
      "metadata": {
        "id": "L9f6aLRSkKKO"
      }
    },
    {
      "cell_type": "code",
      "source": [],
      "metadata": {
        "id": "cTlwNgNvh9Uu"
      },
      "execution_count": null,
      "outputs": []
    }
  ]
}