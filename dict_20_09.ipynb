{
  "nbformat": 4,
  "nbformat_minor": 0,
  "metadata": {
    "colab": {
      "provenance": []
    },
    "kernelspec": {
      "name": "python3",
      "display_name": "Python 3"
    },
    "language_info": {
      "name": "python"
    }
  },
  "cells": [
    {
      "cell_type": "markdown",
      "source": [
        "#Dict"
      ],
      "metadata": {
        "id": "438I1iIoCZNR"
      }
    },
    {
      "cell_type": "markdown",
      "source": [
        "dict -> pair -> key(immutable) not allow duplicate -> value -> mutable allow duplicate\n",
        "dict -> mutabale (order)"
      ],
      "metadata": {
        "id": "FdNHGkd0C61f"
      }
    },
    {
      "cell_type": "markdown",
      "source": [
        "syntax -> d = {key:value}\n",
        "d = dict([key,value])"
      ],
      "metadata": {
        "id": "sFXpQjayDXeo"
      }
    },
    {
      "cell_type": "markdown",
      "source": [
        "key -> number ,string,tuple\n",
        "value -> all DT"
      ],
      "metadata": {
        "id": "cR-1JcKfDvrR"
      }
    },
    {
      "cell_type": "markdown",
      "source": [
        "creating a dict"
      ],
      "metadata": {
        "id": "YvQ9R7QfEBd0"
      }
    },
    {
      "cell_type": "code",
      "source": [
        "d = dict([(\"name\",\"Harsh\"),(\"city\",\"Pune\"),(3,4),(\"state\",\"MH\")])\n",
        "print(d)\n",
        "print(type(d))\n",
        "print(len(d))"
      ],
      "metadata": {
        "colab": {
          "base_uri": "https://localhost:8080/"
        },
        "id": "UkU9Q2ESCpy4",
        "outputId": "bd446bfb-f3a4-4dbd-d2c1-240e7884ee13"
      },
      "execution_count": 49,
      "outputs": [
        {
          "output_type": "stream",
          "name": "stdout",
          "text": [
            "{'name': 'Harsh', 'city': 'Pune', 3: 4, 'state': 'MH'}\n",
            "<class 'dict'>\n",
            "4\n"
          ]
        }
      ]
    },
    {
      "cell_type": "markdown",
      "source": [
        "Value access using KEY Only"
      ],
      "metadata": {
        "id": "Xe4BL3P4Fu3M"
      }
    },
    {
      "cell_type": "code",
      "source": [
        "print(d['city']) # print value"
      ],
      "metadata": {
        "colab": {
          "base_uri": "https://localhost:8080/"
        },
        "id": "ku22uKKZEche",
        "outputId": "1add8a65-ac2e-4e4c-826b-bb06b1df8093"
      },
      "execution_count": 9,
      "outputs": [
        {
          "output_type": "stream",
          "name": "stdout",
          "text": [
            "Pune\n"
          ]
        }
      ]
    },
    {
      "cell_type": "code",
      "source": [
        "print(d[3])"
      ],
      "metadata": {
        "colab": {
          "base_uri": "https://localhost:8080/"
        },
        "id": "jAPT_qePFqW9",
        "outputId": "f63419ca-4a69-4f21-f189-bf47337f5e69"
      },
      "execution_count": 10,
      "outputs": [
        {
          "output_type": "stream",
          "name": "stdout",
          "text": [
            "4\n"
          ]
        }
      ]
    },
    {
      "cell_type": "code",
      "source": [
        "d[\"name\"]=\"Virat\"  # replace"
      ],
      "metadata": {
        "id": "eGS1v54VF5I3"
      },
      "execution_count": 11,
      "outputs": []
    },
    {
      "cell_type": "code",
      "source": [
        "print(d)"
      ],
      "metadata": {
        "colab": {
          "base_uri": "https://localhost:8080/"
        },
        "id": "GXdsOQZUGDfn",
        "outputId": "2f6a02db-764d-4fc0-cf4c-b45ac36c0452"
      },
      "execution_count": 12,
      "outputs": [
        {
          "output_type": "stream",
          "name": "stdout",
          "text": [
            "{'name': 'Virat', 'city': 'Pune', 3: 4, 'state': 'MH'}\n"
          ]
        }
      ]
    },
    {
      "cell_type": "code",
      "source": [
        "print(d['Virat'])"
      ],
      "metadata": {
        "colab": {
          "base_uri": "https://localhost:8080/",
          "height": 148
        },
        "id": "12d-8KT8GEUu",
        "outputId": "efaf51e0-a94b-4af9-c855-a9cb946bd523"
      },
      "execution_count": 13,
      "outputs": [
        {
          "output_type": "error",
          "ename": "KeyError",
          "evalue": "'Virat'",
          "traceback": [
            "\u001b[0;31m---------------------------------------------------------------------------\u001b[0m",
            "\u001b[0;31mKeyError\u001b[0m                                  Traceback (most recent call last)",
            "\u001b[0;32m<ipython-input-13-765da59e06a2>\u001b[0m in \u001b[0;36m<cell line: 1>\u001b[0;34m()\u001b[0m\n\u001b[0;32m----> 1\u001b[0;31m \u001b[0mprint\u001b[0m\u001b[0;34m(\u001b[0m\u001b[0md\u001b[0m\u001b[0;34m[\u001b[0m\u001b[0;34m'Virat'\u001b[0m\u001b[0;34m]\u001b[0m\u001b[0;34m)\u001b[0m\u001b[0;34m\u001b[0m\u001b[0;34m\u001b[0m\u001b[0m\n\u001b[0m",
            "\u001b[0;31mKeyError\u001b[0m: 'Virat'"
          ]
        }
      ]
    },
    {
      "cell_type": "code",
      "source": [
        "print(d)"
      ],
      "metadata": {
        "colab": {
          "base_uri": "https://localhost:8080/"
        },
        "id": "vLk8L4-yGOrN",
        "outputId": "4da79e6b-7b0d-4c01-95b5-303d4df6d04d"
      },
      "execution_count": 14,
      "outputs": [
        {
          "output_type": "stream",
          "name": "stdout",
          "text": [
            "{'name': 'Virat', 'city': 'Pune', 3: 4, 'state': 'MH'}\n"
          ]
        }
      ]
    },
    {
      "cell_type": "code",
      "source": [
        "d['city']=\"Mumbai\"\n",
        "print(d)"
      ],
      "metadata": {
        "colab": {
          "base_uri": "https://localhost:8080/"
        },
        "id": "Z24t_hYtGjxf",
        "outputId": "86b2133f-cef3-449b-9b94-6cf2a5a0de59"
      },
      "execution_count": 15,
      "outputs": [
        {
          "output_type": "stream",
          "name": "stdout",
          "text": [
            "{'name': 'Virat', 'city': 'Mumbai', 3: 4, 'state': 'MH'}\n"
          ]
        }
      ]
    },
    {
      "cell_type": "code",
      "source": [
        "del d[3]\n",
        "print(d)"
      ],
      "metadata": {
        "colab": {
          "base_uri": "https://localhost:8080/"
        },
        "id": "-Xz-Oog2G-Xq",
        "outputId": "8538d1f4-af73-40a0-b9f5-6903e43c7d7c"
      },
      "execution_count": 18,
      "outputs": [
        {
          "output_type": "stream",
          "name": "stdout",
          "text": [
            "{'name': 'Virat', 'city': 'Mumbai', 'state': 'MH'}\n"
          ]
        }
      ]
    },
    {
      "cell_type": "code",
      "source": [
        "l = [1,2,3,4]\n",
        "l"
      ],
      "metadata": {
        "colab": {
          "base_uri": "https://localhost:8080/"
        },
        "id": "FdeV4DU7Gs2P",
        "outputId": "1e9a85eb-1f39-4014-b47b-4ca20f40eace"
      },
      "execution_count": 16,
      "outputs": [
        {
          "output_type": "execute_result",
          "data": {
            "text/plain": [
              "[1, 2, 3, 4]"
            ]
          },
          "metadata": {},
          "execution_count": 16
        }
      ]
    },
    {
      "cell_type": "code",
      "source": [
        "del l[-1]\n",
        "print(l)"
      ],
      "metadata": {
        "colab": {
          "base_uri": "https://localhost:8080/"
        },
        "id": "iQ1N_tb8G3bz",
        "outputId": "744cba0b-1573-4fdd-dd15-007f3f13397e"
      },
      "execution_count": 17,
      "outputs": [
        {
          "output_type": "stream",
          "name": "stdout",
          "text": [
            "[1, 2, 3]\n"
          ]
        }
      ]
    },
    {
      "cell_type": "markdown",
      "source": [
        "dict methods\n",
        "\n",
        "1.keys\n",
        "2.values\n",
        "3.items"
      ],
      "metadata": {
        "id": "xv9E0l5sHKyc"
      }
    },
    {
      "cell_type": "code",
      "source": [
        "d.keys()"
      ],
      "metadata": {
        "colab": {
          "base_uri": "https://localhost:8080/"
        },
        "id": "OotPlq75G9bv",
        "outputId": "3d102e31-b549-4481-c4c8-c36b5eca6297"
      },
      "execution_count": 19,
      "outputs": [
        {
          "output_type": "execute_result",
          "data": {
            "text/plain": [
              "dict_keys(['name', 'city', 'state'])"
            ]
          },
          "metadata": {},
          "execution_count": 19
        }
      ]
    },
    {
      "cell_type": "code",
      "source": [
        "d.values()"
      ],
      "metadata": {
        "colab": {
          "base_uri": "https://localhost:8080/"
        },
        "id": "hc6D3GIgHQ-7",
        "outputId": "650bb669-4701-41b2-8797-2931e945c551"
      },
      "execution_count": 20,
      "outputs": [
        {
          "output_type": "execute_result",
          "data": {
            "text/plain": [
              "dict_values(['Virat', 'Mumbai', 'MH'])"
            ]
          },
          "metadata": {},
          "execution_count": 20
        }
      ]
    },
    {
      "cell_type": "code",
      "source": [
        "d.items()"
      ],
      "metadata": {
        "colab": {
          "base_uri": "https://localhost:8080/"
        },
        "id": "69fOccjPHTI4",
        "outputId": "cff4f5c5-9f7d-4543-bb44-f07f1e39a542"
      },
      "execution_count": 21,
      "outputs": [
        {
          "output_type": "execute_result",
          "data": {
            "text/plain": [
              "dict_items([('name', 'Virat'), ('city', 'Mumbai'), ('state', 'MH')])"
            ]
          },
          "metadata": {},
          "execution_count": 21
        }
      ]
    },
    {
      "cell_type": "code",
      "source": [
        "print(d)"
      ],
      "metadata": {
        "colab": {
          "base_uri": "https://localhost:8080/"
        },
        "id": "hBNBC4ESHUxX",
        "outputId": "d3242b0f-f5c3-48ec-effb-4c2afd7a3b6e"
      },
      "execution_count": 22,
      "outputs": [
        {
          "output_type": "stream",
          "name": "stdout",
          "text": [
            "{'name': 'Virat', 'city': 'Mumbai', 'state': 'MH'}\n"
          ]
        }
      ]
    },
    {
      "cell_type": "code",
      "source": [
        "d[\"name\"]=\"Rohit\"\n",
        "print(d)"
      ],
      "metadata": {
        "colab": {
          "base_uri": "https://localhost:8080/"
        },
        "id": "vd1x-osBHmYj",
        "outputId": "e6490965-df58-435c-bf10-216038dde310"
      },
      "execution_count": 23,
      "outputs": [
        {
          "output_type": "stream",
          "name": "stdout",
          "text": [
            "{'name': 'Rohit', 'city': 'Mumbai', 'state': 'MH'}\n"
          ]
        }
      ]
    },
    {
      "cell_type": "code",
      "source": [
        "d[\"place\"]=\"Katraj\"\n",
        "print(d)"
      ],
      "metadata": {
        "colab": {
          "base_uri": "https://localhost:8080/"
        },
        "id": "BWXX6A9wHxbU",
        "outputId": "652f074e-02a1-43cb-f44c-30367958d1b8"
      },
      "execution_count": 24,
      "outputs": [
        {
          "output_type": "stream",
          "name": "stdout",
          "text": [
            "{'name': 'Rohit', 'city': 'Mumbai', 'state': 'MH', 'place': 'Katraj'}\n"
          ]
        }
      ]
    },
    {
      "cell_type": "code",
      "source": [
        "print(d['place'])"
      ],
      "metadata": {
        "colab": {
          "base_uri": "https://localhost:8080/"
        },
        "id": "9zPuPl-3H4ws",
        "outputId": "3a718abd-09fe-4080-d5ed-5d9c9989b709"
      },
      "execution_count": 25,
      "outputs": [
        {
          "output_type": "stream",
          "name": "stdout",
          "text": [
            "Katraj\n"
          ]
        }
      ]
    },
    {
      "cell_type": "code",
      "source": [
        "print(d['india'])"
      ],
      "metadata": {
        "colab": {
          "base_uri": "https://localhost:8080/",
          "height": 148
        },
        "id": "1aArpYZLID1z",
        "outputId": "ae4c9efb-f339-40c7-96b5-f701e958521c"
      },
      "execution_count": 26,
      "outputs": [
        {
          "output_type": "error",
          "ename": "KeyError",
          "evalue": "'india'",
          "traceback": [
            "\u001b[0;31m---------------------------------------------------------------------------\u001b[0m",
            "\u001b[0;31mKeyError\u001b[0m                                  Traceback (most recent call last)",
            "\u001b[0;32m<ipython-input-26-42ce5b7dafbd>\u001b[0m in \u001b[0;36m<cell line: 1>\u001b[0;34m()\u001b[0m\n\u001b[0;32m----> 1\u001b[0;31m \u001b[0mprint\u001b[0m\u001b[0;34m(\u001b[0m\u001b[0md\u001b[0m\u001b[0;34m[\u001b[0m\u001b[0;34m'india'\u001b[0m\u001b[0;34m]\u001b[0m\u001b[0;34m)\u001b[0m\u001b[0;34m\u001b[0m\u001b[0;34m\u001b[0m\u001b[0m\n\u001b[0m",
            "\u001b[0;31mKeyError\u001b[0m: 'india'"
          ]
        }
      ]
    },
    {
      "cell_type": "markdown",
      "source": [
        "get"
      ],
      "metadata": {
        "id": "c8k8CjkcIJ4V"
      }
    },
    {
      "cell_type": "code",
      "source": [
        "d.get('india')"
      ],
      "metadata": {
        "id": "fwE8nbx7IIUx"
      },
      "execution_count": 27,
      "outputs": []
    },
    {
      "cell_type": "code",
      "source": [
        "d.get('india',True)"
      ],
      "metadata": {
        "colab": {
          "base_uri": "https://localhost:8080/"
        },
        "id": "C-BF43V-IQSZ",
        "outputId": "867b9962-6be7-4ddd-ae77-e39b48987393"
      },
      "execution_count": 28,
      "outputs": [
        {
          "output_type": "execute_result",
          "data": {
            "text/plain": [
              "True"
            ]
          },
          "metadata": {},
          "execution_count": 28
        }
      ]
    },
    {
      "cell_type": "code",
      "source": [
        "d.get('name',True)"
      ],
      "metadata": {
        "colab": {
          "base_uri": "https://localhost:8080/",
          "height": 36
        },
        "id": "M8Q6gX5DIYN7",
        "outputId": "3123b260-eccd-4c01-b925-51f182c3425f"
      },
      "execution_count": 29,
      "outputs": [
        {
          "output_type": "execute_result",
          "data": {
            "text/plain": [
              "'Rohit'"
            ],
            "application/vnd.google.colaboratory.intrinsic+json": {
              "type": "string"
            }
          },
          "metadata": {},
          "execution_count": 29
        }
      ]
    },
    {
      "cell_type": "markdown",
      "source": [
        "use membership operator on dict"
      ],
      "metadata": {
        "id": "USijsm92Io2Z"
      }
    },
    {
      "cell_type": "code",
      "source": [
        "print(d)"
      ],
      "metadata": {
        "colab": {
          "base_uri": "https://localhost:8080/"
        },
        "id": "-hwGRdoiId-H",
        "outputId": "378276fd-c3af-4f7d-9d0e-9caafadb5c08"
      },
      "execution_count": 30,
      "outputs": [
        {
          "output_type": "stream",
          "name": "stdout",
          "text": [
            "{'name': 'Rohit', 'city': 'Mumbai', 'state': 'MH', 'place': 'Katraj'}\n"
          ]
        }
      ]
    },
    {
      "cell_type": "code",
      "source": [
        "d.update({\"year\":2024,\"place\":\"Satara\",2:45})\n",
        "print(d)"
      ],
      "metadata": {
        "colab": {
          "base_uri": "https://localhost:8080/"
        },
        "id": "0nu6Jwf7JJht",
        "outputId": "0e9bce29-fb3a-4c79-9294-60d72dd6759e"
      },
      "execution_count": 31,
      "outputs": [
        {
          "output_type": "stream",
          "name": "stdout",
          "text": [
            "{'name': 'Rohit', 'city': 'Mumbai', 'state': 'MH', 'place': 'Satara', 'year': 2024, 2: 45}\n"
          ]
        }
      ]
    },
    {
      "cell_type": "code",
      "source": [
        "d.pop(2)  # key\n",
        "print(d)"
      ],
      "metadata": {
        "colab": {
          "base_uri": "https://localhost:8080/"
        },
        "id": "YWYCE2OiJZVE",
        "outputId": "43d87897-05ad-441e-b587-4da978e185eb"
      },
      "execution_count": 32,
      "outputs": [
        {
          "output_type": "stream",
          "name": "stdout",
          "text": [
            "{'name': 'Rohit', 'city': 'Mumbai', 'state': 'MH', 'place': 'Satara', 'year': 2024}\n"
          ]
        }
      ]
    },
    {
      "cell_type": "code",
      "source": [
        "d.pop('state')  # key\n",
        "print(d)"
      ],
      "metadata": {
        "colab": {
          "base_uri": "https://localhost:8080/"
        },
        "id": "ZQeNjUVgJ7P1",
        "outputId": "ba426f25-314b-4290-d24c-cff66760a6ef"
      },
      "execution_count": 33,
      "outputs": [
        {
          "output_type": "stream",
          "name": "stdout",
          "text": [
            "{'name': 'Rohit', 'city': 'Mumbai', 'place': 'Satara', 'year': 2024}\n"
          ]
        }
      ]
    },
    {
      "cell_type": "code",
      "source": [
        "d.popitem()  # by default delete last key value pair\n",
        "print(d)"
      ],
      "metadata": {
        "colab": {
          "base_uri": "https://localhost:8080/"
        },
        "id": "tttwT4GVKBnR",
        "outputId": "2cb67ba0-1b80-4c53-cb69-5dc8cc7aa6e0"
      },
      "execution_count": 34,
      "outputs": [
        {
          "output_type": "stream",
          "name": "stdout",
          "text": [
            "{'name': 'Rohit', 'city': 'Mumbai', 'place': 'Satara'}\n"
          ]
        }
      ]
    },
    {
      "cell_type": "code",
      "source": [
        "del d[\"place\"]\n",
        "d"
      ],
      "metadata": {
        "colab": {
          "base_uri": "https://localhost:8080/"
        },
        "id": "EeKjy0vkKGyi",
        "outputId": "3a3bf1e5-45ac-4c23-a7c1-642a6b4c527f"
      },
      "execution_count": 42,
      "outputs": [
        {
          "output_type": "execute_result",
          "data": {
            "text/plain": [
              "{'name': 'Rohit', 'city': 'Mumbai'}"
            ]
          },
          "metadata": {},
          "execution_count": 42
        }
      ]
    },
    {
      "cell_type": "code",
      "source": [
        "d"
      ],
      "metadata": {
        "colab": {
          "base_uri": "https://localhost:8080/"
        },
        "id": "eFL-5z37KrRG",
        "outputId": "6f2e08bc-eac6-4b25-e723-46b3978ffd3b"
      },
      "execution_count": 43,
      "outputs": [
        {
          "output_type": "execute_result",
          "data": {
            "text/plain": [
              "{'name': 'Rohit', 'city': 'Mumbai'}"
            ]
          },
          "metadata": {},
          "execution_count": 43
        }
      ]
    },
    {
      "cell_type": "code",
      "source": [
        "del d"
      ],
      "metadata": {
        "id": "ex4y9Aq5KtrC"
      },
      "execution_count": 44,
      "outputs": []
    },
    {
      "cell_type": "code",
      "source": [
        "d"
      ],
      "metadata": {
        "colab": {
          "base_uri": "https://localhost:8080/",
          "height": 148
        },
        "id": "ZbPLjQQHKuz8",
        "outputId": "eb32e17e-9224-4f1d-9081-52c4dc4c059d"
      },
      "execution_count": 45,
      "outputs": [
        {
          "output_type": "error",
          "ename": "NameError",
          "evalue": "name 'd' is not defined",
          "traceback": [
            "\u001b[0;31m---------------------------------------------------------------------------\u001b[0m",
            "\u001b[0;31mNameError\u001b[0m                                 Traceback (most recent call last)",
            "\u001b[0;32m<ipython-input-45-e983f374794d>\u001b[0m in \u001b[0;36m<cell line: 1>\u001b[0;34m()\u001b[0m\n\u001b[0;32m----> 1\u001b[0;31m \u001b[0md\u001b[0m\u001b[0;34m\u001b[0m\u001b[0;34m\u001b[0m\u001b[0m\n\u001b[0m",
            "\u001b[0;31mNameError\u001b[0m: name 'd' is not defined"
          ]
        }
      ]
    },
    {
      "cell_type": "code",
      "source": [
        "l = [1,2,3,4]\n",
        "l"
      ],
      "metadata": {
        "colab": {
          "base_uri": "https://localhost:8080/"
        },
        "id": "DNLo2f7YKgyY",
        "outputId": "ec47bb2b-1140-4ce7-ab61-f6d08a9c1bc2"
      },
      "execution_count": 46,
      "outputs": [
        {
          "output_type": "execute_result",
          "data": {
            "text/plain": [
              "[1, 2, 3, 4]"
            ]
          },
          "metadata": {},
          "execution_count": 46
        }
      ]
    },
    {
      "cell_type": "code",
      "source": [
        "del l[0:2]"
      ],
      "metadata": {
        "id": "1RRxrDeJKhzU"
      },
      "execution_count": 47,
      "outputs": []
    },
    {
      "cell_type": "code",
      "source": [
        "l"
      ],
      "metadata": {
        "colab": {
          "base_uri": "https://localhost:8080/"
        },
        "id": "JympZ4jrKilQ",
        "outputId": "b266b076-6deb-4464-e38a-bb62990ff65c"
      },
      "execution_count": 48,
      "outputs": [
        {
          "output_type": "execute_result",
          "data": {
            "text/plain": [
              "[3, 4]"
            ]
          },
          "metadata": {},
          "execution_count": 48
        }
      ]
    },
    {
      "cell_type": "code",
      "source": [
        "d"
      ],
      "metadata": {
        "colab": {
          "base_uri": "https://localhost:8080/"
        },
        "id": "mUbA1uf9KjSb",
        "outputId": "a3f8178a-d667-406e-964e-9aac3d57ea62"
      },
      "execution_count": 50,
      "outputs": [
        {
          "output_type": "execute_result",
          "data": {
            "text/plain": [
              "{'name': 'Harsh', 'city': 'Pune', 3: 4, 'state': 'MH'}"
            ]
          },
          "metadata": {},
          "execution_count": 50
        }
      ]
    },
    {
      "cell_type": "code",
      "source": [
        "d.clear()# remove all pairs"
      ],
      "metadata": {
        "id": "6VJ4S764K87O"
      },
      "execution_count": 51,
      "outputs": []
    },
    {
      "cell_type": "code",
      "source": [
        "d"
      ],
      "metadata": {
        "colab": {
          "base_uri": "https://localhost:8080/"
        },
        "id": "yFGdFQrJLDML",
        "outputId": "8309bd57-ad6a-4f7c-c3eb-b00bdda42048"
      },
      "execution_count": 52,
      "outputs": [
        {
          "output_type": "execute_result",
          "data": {
            "text/plain": [
              "{}"
            ]
          },
          "metadata": {},
          "execution_count": 52
        }
      ]
    },
    {
      "cell_type": "code",
      "source": [],
      "metadata": {
        "id": "hcUi0dAYLDxi"
      },
      "execution_count": null,
      "outputs": []
    }
  ]
}