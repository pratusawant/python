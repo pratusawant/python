{
  "nbformat": 4,
  "nbformat_minor": 0,
  "metadata": {
    "colab": {
      "provenance": []
    },
    "kernelspec": {
      "name": "python3",
      "display_name": "Python 3"
    },
    "language_info": {
      "name": "python"
    }
  },
  "cells": [
    {
      "cell_type": "markdown",
      "source": [
        "print even number between 1 to 10 using while"
      ],
      "metadata": {
        "id": "y7RyeF--6doF"
      }
    },
    {
      "cell_type": "code",
      "execution_count": 1,
      "metadata": {
        "id": "A2b4v6FW6FeW"
      },
      "outputs": [],
      "source": [
        "i = 1\n",
        "while i > 11:\n",
        "  if i%2==0:\n",
        "    print(i)\n",
        "    i+=1"
      ]
    },
    {
      "cell_type": "code",
      "source": [
        "i = 1\n",
        "while i > 11:\n",
        "  if i%2==0:\n",
        "     i+=1\n",
        "  print(i)\n",
        ""
      ],
      "metadata": {
        "id": "BDGe-Ymx7IyK"
      },
      "execution_count": 2,
      "outputs": []
    },
    {
      "cell_type": "code",
      "source": [
        "i = 1\n",
        "while i > 11:\n",
        "  if i%2==0:\n",
        "     i+=1\n",
        "     print(i)\n",
        ""
      ],
      "metadata": {
        "id": "esgwpxaW7X6s"
      },
      "execution_count": 3,
      "outputs": []
    },
    {
      "cell_type": "code",
      "source": [
        "i = 1\n",
        "while i > 11:\n",
        "  if i%2==0:\n",
        "     i+=1\n",
        "print(i)\n",
        ""
      ],
      "metadata": {
        "colab": {
          "base_uri": "https://localhost:8080/"
        },
        "id": "n1H_wD3o7afA",
        "outputId": "b028a2e8-ff14-44b8-e11d-13ce8c1b3709"
      },
      "execution_count": 4,
      "outputs": [
        {
          "output_type": "stream",
          "name": "stdout",
          "text": [
            "1\n"
          ]
        }
      ]
    },
    {
      "cell_type": "code",
      "source": [
        "i = 1\n",
        "while i < 11:\n",
        "  if i%2==0:\n",
        "    print(i)\n",
        "  i+=1\n",
        "\n",
        ""
      ],
      "metadata": {
        "colab": {
          "base_uri": "https://localhost:8080/"
        },
        "id": "Da9LpC_Q7iW9",
        "outputId": "00f68aec-aa82-412e-97fd-5e28a97d16a6"
      },
      "execution_count": 6,
      "outputs": [
        {
          "output_type": "stream",
          "name": "stdout",
          "text": [
            "2\n",
            "4\n",
            "6\n",
            "8\n",
            "10\n"
          ]
        }
      ]
    },
    {
      "cell_type": "markdown",
      "source": [
        "hello print 3 times"
      ],
      "metadata": {
        "id": "u646auDT8ZZM"
      }
    },
    {
      "cell_type": "code",
      "source": [
        "i  = 0\n",
        "while i < 3:\n",
        "  print(\"hello\")\n",
        "  i+=1"
      ],
      "metadata": {
        "colab": {
          "base_uri": "https://localhost:8080/"
        },
        "id": "d_BYi0Am7-L7",
        "outputId": "0fa9a775-fedd-4050-8d6f-283eaa7637b2"
      },
      "execution_count": 7,
      "outputs": [
        {
          "output_type": "stream",
          "name": "stdout",
          "text": [
            "hello\n",
            "hello\n",
            "hello\n"
          ]
        }
      ]
    },
    {
      "cell_type": "markdown",
      "source": [
        "fibbonacci Series"
      ],
      "metadata": {
        "id": "h1BUuY-UALIf"
      }
    },
    {
      "cell_type": "code",
      "source": [
        "n = 5\n",
        "i,j = 0,1  # unpacking\n",
        "c = 0\n",
        "while c < n:\n",
        "  print(i)\n",
        "  i,j=j,i+j\n",
        "  c+=1"
      ],
      "metadata": {
        "colab": {
          "base_uri": "https://localhost:8080/"
        },
        "id": "2QM9VwK08jaR",
        "outputId": "1bd844e3-3559-415e-9fd1-ec8c0464a542"
      },
      "execution_count": 9,
      "outputs": [
        {
          "output_type": "stream",
          "name": "stdout",
          "text": [
            "0\n",
            "1\n",
            "1\n",
            "2\n",
            "3\n"
          ]
        }
      ]
    },
    {
      "cell_type": "code",
      "source": [
        "n = 5\n",
        "i,j=0,1\n",
        "for _ in range(n+1):\n",
        "  print(i)\n",
        "  i,j=j,i+j\n"
      ],
      "metadata": {
        "colab": {
          "base_uri": "https://localhost:8080/"
        },
        "id": "EhPftgrC-h0Q",
        "outputId": "43d9a104-3b70-41c3-df3c-b18049318974"
      },
      "execution_count": 12,
      "outputs": [
        {
          "output_type": "stream",
          "name": "stdout",
          "text": [
            "0\n",
            "1\n",
            "1\n",
            "2\n",
            "3\n",
            "5\n"
          ]
        }
      ]
    },
    {
      "cell_type": "markdown",
      "source": [
        "factorial"
      ],
      "metadata": {
        "id": "faESBP_YANfy"
      }
    },
    {
      "cell_type": "code",
      "source": [
        "k = 5\n",
        "f = 1\n",
        "c = 1\n",
        "while c <=k:\n",
        "  f = f*c\n",
        "  c+=1\n",
        "print(f)\n"
      ],
      "metadata": {
        "colab": {
          "base_uri": "https://localhost:8080/"
        },
        "id": "JeNxkp1Z_gMq",
        "outputId": "631bc6fe-ee5a-4b86-f03e-6b63e9c319a8"
      },
      "execution_count": 16,
      "outputs": [
        {
          "output_type": "stream",
          "name": "stdout",
          "text": [
            "120\n"
          ]
        }
      ]
    },
    {
      "cell_type": "code",
      "source": [
        "l = [1,2,3,\"Hello\",\"pune\"]\n",
        "l[1]"
      ],
      "metadata": {
        "id": "CmsAmBxZC37X"
      },
      "execution_count": null,
      "outputs": []
    },
    {
      "cell_type": "code",
      "source": [
        "l = [1,2,3,\"Hello\",\"pune\"]\n",
        "k = []\n",
        "i = len(l)-1\n",
        "while i >=0:\n",
        "  k.append(l[i])\n",
        "  i-=1\n",
        "print(k)"
      ],
      "metadata": {
        "colab": {
          "base_uri": "https://localhost:8080/"
        },
        "id": "H_fd4Ch3A2Tq",
        "outputId": "dff62f94-7644-41ba-cae0-be2222d1790d"
      },
      "execution_count": 20,
      "outputs": [
        {
          "output_type": "stream",
          "name": "stdout",
          "text": [
            "['pune', 'Hello', 3, 2, 1]\n"
          ]
        }
      ]
    },
    {
      "cell_type": "code",
      "source": [],
      "metadata": {
        "id": "tp4r6u2ECWpW"
      },
      "execution_count": null,
      "outputs": []
    }
  ]
}