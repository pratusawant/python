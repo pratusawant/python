{
  "nbformat": 4,
  "nbformat_minor": 0,
  "metadata": {
    "colab": {
      "provenance": []
    },
    "kernelspec": {
      "name": "python3",
      "display_name": "Python 3"
    },
    "language_info": {
      "name": "python"
    }
  },
  "cells": [
    {
      "cell_type": "markdown",
      "source": [
        "dict methods\n",
        "1.copy()  -> try\n",
        "2.fromkeys() -> create a dict from given keys"
      ],
      "metadata": {
        "id": "Zs71lxbsMXy-"
      }
    },
    {
      "cell_type": "code",
      "execution_count": 1,
      "metadata": {
        "colab": {
          "base_uri": "https://localhost:8080/"
        },
        "id": "yCf1_RNbK4lM",
        "outputId": "24aadcef-f059-4859-b9d0-14d1aaa76221"
      },
      "outputs": [
        {
          "output_type": "stream",
          "name": "stdout",
          "text": [
            "{'Harsh': None, 'Python': None, 'city': None, 'Age': None}\n"
          ]
        }
      ],
      "source": [
        "l = [\"Harsh\",\"Python\",\"city\",\"Age\"]\n",
        "n = dict.fromkeys(l)\n",
        "print(n)\n"
      ]
    },
    {
      "cell_type": "code",
      "source": [
        "l = [\"Harsh\",\"Python\",\"city\",\"Age\"]\n",
        "k = [1,2,3,4]\n",
        "n = dict.fromkeys(l,k)\n",
        "print(n)\n"
      ],
      "metadata": {
        "colab": {
          "base_uri": "https://localhost:8080/"
        },
        "id": "fWUQfLDPNNoS",
        "outputId": "22d565d5-1b5d-44fa-dadf-aef67c07dbef"
      },
      "execution_count": 3,
      "outputs": [
        {
          "output_type": "stream",
          "name": "stdout",
          "text": [
            "{'Harsh': [1, 2, 3, 4], 'Python': [1, 2, 3, 4], 'city': [1, 2, 3, 4], 'Age': [1, 2, 3, 4]}\n"
          ]
        }
      ]
    },
    {
      "cell_type": "code",
      "source": [
        "l = [\"Harsh\",\"Python\"]\n",
        "k = [1,2,3,4,[1,2,11,111,111,111]]\n",
        "n = dict.fromkeys(l,k)\n",
        "print(n)\n"
      ],
      "metadata": {
        "colab": {
          "base_uri": "https://localhost:8080/"
        },
        "id": "XInetBB8NfGx",
        "outputId": "b0306ddb-f5da-469b-85ba-cd7b69191ed8"
      },
      "execution_count": 4,
      "outputs": [
        {
          "output_type": "stream",
          "name": "stdout",
          "text": [
            "{'Harsh': [1, 2, 3, 4, [1, 2, 11, 111, 111, 111]], 'Python': [1, 2, 3, 4, [1, 2, 11, 111, 111, 111]]}\n"
          ]
        }
      ]
    },
    {
      "cell_type": "markdown",
      "source": [
        "zip"
      ],
      "metadata": {
        "id": "oEllvNpGONjl"
      }
    },
    {
      "cell_type": "code",
      "source": [
        "l = [\"Harsh\",\"Python\"]\n",
        "k = [\"name\",\"subject\"]\n",
        "n = dict(zip(l,k))\n",
        "print(n)\n"
      ],
      "metadata": {
        "colab": {
          "base_uri": "https://localhost:8080/"
        },
        "id": "ju3tQeXzOGAT",
        "outputId": "4998c013-7a4d-4ae2-f0bb-097f9e1dce2f"
      },
      "execution_count": 5,
      "outputs": [
        {
          "output_type": "stream",
          "name": "stdout",
          "text": [
            "{'Harsh': 'name', 'Python': 'subject'}\n"
          ]
        }
      ]
    },
    {
      "cell_type": "markdown",
      "source": [
        "setdefault -> get"
      ],
      "metadata": {
        "id": "5YCFesXKPDuZ"
      }
    },
    {
      "cell_type": "code",
      "source": [
        "print(n)"
      ],
      "metadata": {
        "colab": {
          "base_uri": "https://localhost:8080/"
        },
        "id": "w3jcEFJ5OsQf",
        "outputId": "b79310b8-4ae6-4ea7-b0f7-751c4dfca7de"
      },
      "execution_count": 6,
      "outputs": [
        {
          "output_type": "stream",
          "name": "stdout",
          "text": [
            "{'Harsh': 'name', 'Python': 'subject'}\n"
          ]
        }
      ]
    },
    {
      "cell_type": "code",
      "source": [
        "n.get(\"harsh\",True)"
      ],
      "metadata": {
        "colab": {
          "base_uri": "https://localhost:8080/"
        },
        "id": "mbr8xy13PHzj",
        "outputId": "fe1f135b-4f1b-4de2-8ab9-3c7a8c8b305a"
      },
      "execution_count": 7,
      "outputs": [
        {
          "output_type": "execute_result",
          "data": {
            "text/plain": [
              "True"
            ]
          },
          "metadata": {},
          "execution_count": 7
        }
      ]
    },
    {
      "cell_type": "code",
      "source": [
        "n.setdefault(\"harsh\",True)"
      ],
      "metadata": {
        "colab": {
          "base_uri": "https://localhost:8080/"
        },
        "id": "U6_BO_SjPWcV",
        "outputId": "424a7421-8500-427f-8265-7d9eb6cb62cc"
      },
      "execution_count": 8,
      "outputs": [
        {
          "output_type": "execute_result",
          "data": {
            "text/plain": [
              "True"
            ]
          },
          "metadata": {},
          "execution_count": 8
        }
      ]
    },
    {
      "cell_type": "code",
      "source": [
        "print(n)"
      ],
      "metadata": {
        "colab": {
          "base_uri": "https://localhost:8080/"
        },
        "id": "jaABdUrtPdJy",
        "outputId": "2de5f271-cbd2-4bb1-dae2-a599415dc423"
      },
      "execution_count": 9,
      "outputs": [
        {
          "output_type": "stream",
          "name": "stdout",
          "text": [
            "{'Harsh': 'name', 'Python': 'subject', 'harsh': True}\n"
          ]
        }
      ]
    },
    {
      "cell_type": "code",
      "source": [
        "n.setdefault(\"harsh\",222)\n",
        "n"
      ],
      "metadata": {
        "colab": {
          "base_uri": "https://localhost:8080/"
        },
        "id": "X8YHCNwBPemY",
        "outputId": "0fb10f9c-3e7e-4c2c-d1f3-43f42553022b"
      },
      "execution_count": 10,
      "outputs": [
        {
          "output_type": "execute_result",
          "data": {
            "text/plain": [
              "{'Harsh': 'name', 'Python': 'subject', 'harsh': True}"
            ]
          },
          "metadata": {},
          "execution_count": 10
        }
      ]
    },
    {
      "cell_type": "code",
      "source": [
        "n.setdefault(\"name_2\",222)\n",
        "n"
      ],
      "metadata": {
        "colab": {
          "base_uri": "https://localhost:8080/"
        },
        "id": "XG6eFKZ8Pmzz",
        "outputId": "0b788d4c-220b-4409-a9d2-524973d58713"
      },
      "execution_count": 11,
      "outputs": [
        {
          "output_type": "execute_result",
          "data": {
            "text/plain": [
              "{'Harsh': 'name', 'Python': 'subject', 'harsh': True, 'name_2': 222}"
            ]
          },
          "metadata": {},
          "execution_count": 11
        }
      ]
    },
    {
      "cell_type": "code",
      "source": [
        "n.setdefault(\"name_2\")"
      ],
      "metadata": {
        "colab": {
          "base_uri": "https://localhost:8080/"
        },
        "id": "EN16hItsPuST",
        "outputId": "4237985a-c0d5-4a91-ff0c-66b51b48305e"
      },
      "execution_count": 13,
      "outputs": [
        {
          "output_type": "execute_result",
          "data": {
            "text/plain": [
              "222"
            ]
          },
          "metadata": {},
          "execution_count": 13
        }
      ]
    },
    {
      "cell_type": "code",
      "source": [
        "d = {\"name\":[\"Harsh\",\"rahul\",\"Kavita\"],\"city\":[\"pune\",\"nashik\"]}\n",
        "print(d)"
      ],
      "metadata": {
        "colab": {
          "base_uri": "https://localhost:8080/"
        },
        "id": "0_kjx-15Px9D",
        "outputId": "9f01cf65-110e-4575-8a83-0eb1d306aa30"
      },
      "execution_count": 14,
      "outputs": [
        {
          "output_type": "stream",
          "name": "stdout",
          "text": [
            "{'name': ['Harsh', 'rahul', 'Kavita'], 'city': ['pune', 'nashik']}\n"
          ]
        }
      ]
    },
    {
      "cell_type": "code",
      "source": [
        "print(d[\"Harsh\"])"
      ],
      "metadata": {
        "colab": {
          "base_uri": "https://localhost:8080/",
          "height": 148
        },
        "id": "xqUGu81vQOZL",
        "outputId": "372fd33e-8bdf-4b38-e828-528d455c330e"
      },
      "execution_count": 15,
      "outputs": [
        {
          "output_type": "error",
          "ename": "KeyError",
          "evalue": "'Harsh'",
          "traceback": [
            "\u001b[0;31m---------------------------------------------------------------------------\u001b[0m",
            "\u001b[0;31mKeyError\u001b[0m                                  Traceback (most recent call last)",
            "\u001b[0;32m<ipython-input-15-1e5f4ba435f5>\u001b[0m in \u001b[0;36m<cell line: 1>\u001b[0;34m()\u001b[0m\n\u001b[0;32m----> 1\u001b[0;31m \u001b[0mprint\u001b[0m\u001b[0;34m(\u001b[0m\u001b[0md\u001b[0m\u001b[0;34m[\u001b[0m\u001b[0;34m\"Harsh\"\u001b[0m\u001b[0;34m]\u001b[0m\u001b[0;34m)\u001b[0m\u001b[0;34m\u001b[0m\u001b[0;34m\u001b[0m\u001b[0m\n\u001b[0m",
            "\u001b[0;31mKeyError\u001b[0m: 'Harsh'"
          ]
        }
      ]
    },
    {
      "cell_type": "code",
      "source": [
        "d[\"name\"][0]"
      ],
      "metadata": {
        "colab": {
          "base_uri": "https://localhost:8080/",
          "height": 36
        },
        "id": "OJxHoF46Qs17",
        "outputId": "41994d7c-54fa-406b-9afb-b8c68c0cf831"
      },
      "execution_count": 17,
      "outputs": [
        {
          "output_type": "execute_result",
          "data": {
            "text/plain": [
              "'Harsh'"
            ],
            "application/vnd.google.colaboratory.intrinsic+json": {
              "type": "string"
            }
          },
          "metadata": {},
          "execution_count": 17
        }
      ]
    },
    {
      "cell_type": "code",
      "source": [
        "d[\"name\"][2]"
      ],
      "metadata": {
        "colab": {
          "base_uri": "https://localhost:8080/",
          "height": 36
        },
        "id": "WtoW11szQxSL",
        "outputId": "76e41f53-60d3-4b9b-b369-be8c4cf39b73"
      },
      "execution_count": 18,
      "outputs": [
        {
          "output_type": "execute_result",
          "data": {
            "text/plain": [
              "'Kavita'"
            ],
            "application/vnd.google.colaboratory.intrinsic+json": {
              "type": "string"
            }
          },
          "metadata": {},
          "execution_count": 18
        }
      ]
    },
    {
      "cell_type": "code",
      "source": [
        "d = {\"name\":{\"Harsh\",\"rahul\",\"Kavita\"},\"city\":[\"pune\",\"nashik\"]}\n",
        "print(d)"
      ],
      "metadata": {
        "colab": {
          "base_uri": "https://localhost:8080/"
        },
        "id": "k4_RJlZ-Q5xY",
        "outputId": "200667b5-1e89-45b8-bbf4-a9689952c6dc"
      },
      "execution_count": 20,
      "outputs": [
        {
          "output_type": "stream",
          "name": "stdout",
          "text": [
            "{'name': {'rahul', 'Kavita', 'Harsh'}, 'city': ['pune', 'nashik']}\n"
          ]
        }
      ]
    },
    {
      "cell_type": "code",
      "source": [
        "d[\"name\"]"
      ],
      "metadata": {
        "colab": {
          "base_uri": "https://localhost:8080/"
        },
        "id": "zpR76A2BRBBX",
        "outputId": "e7f74a92-ab62-49a9-ec15-9afffb13d971"
      },
      "execution_count": 21,
      "outputs": [
        {
          "output_type": "execute_result",
          "data": {
            "text/plain": [
              "{'Harsh', 'Kavita', 'rahul'}"
            ]
          },
          "metadata": {},
          "execution_count": 21
        }
      ]
    },
    {
      "cell_type": "markdown",
      "source": [
        "Nested Dict"
      ],
      "metadata": {
        "id": "7c4GDe9YSlqi"
      }
    },
    {
      "cell_type": "code",
      "source": [
        "l = {\"name\":{\"name_2\":[1,2,3,4]},\"city\":{\"pune\",\"satara\"}}\n",
        "print(l)"
      ],
      "metadata": {
        "colab": {
          "base_uri": "https://localhost:8080/"
        },
        "id": "jsPa-hxJRKG2",
        "outputId": "0271f90b-88e8-4c8d-c2d2-663d668173c0"
      },
      "execution_count": 32,
      "outputs": [
        {
          "output_type": "stream",
          "name": "stdout",
          "text": [
            "{'name': {'name_2': [1, 2, 3, 4]}, 'city': {'pune', 'satara'}}\n"
          ]
        }
      ]
    },
    {
      "cell_type": "code",
      "source": [
        "l[\"Fruits\"]={True:1,False:0}\n",
        "l"
      ],
      "metadata": {
        "colab": {
          "base_uri": "https://localhost:8080/"
        },
        "id": "p-ForjbsUnyf",
        "outputId": "503b330e-c04f-4a9d-de5b-386387899537"
      },
      "execution_count": 33,
      "outputs": [
        {
          "output_type": "execute_result",
          "data": {
            "text/plain": [
              "{'name': {'name_2': [1, 2, 3, 4]},\n",
              " 'city': {'pune', 'satara'},\n",
              " 'Fruits': {True: 1, False: 0}}"
            ]
          },
          "metadata": {},
          "execution_count": 33
        }
      ]
    },
    {
      "cell_type": "code",
      "source": [
        "l['Fruits'][False]"
      ],
      "metadata": {
        "colab": {
          "base_uri": "https://localhost:8080/"
        },
        "id": "Dm4X5dNDVCe9",
        "outputId": "48c5ec94-aae6-42a7-b3a4-bac8cfa8035d"
      },
      "execution_count": 34,
      "outputs": [
        {
          "output_type": "execute_result",
          "data": {
            "text/plain": [
              "0"
            ]
          },
          "metadata": {},
          "execution_count": 34
        }
      ]
    },
    {
      "cell_type": "code",
      "source": [
        "l.keys()"
      ],
      "metadata": {
        "colab": {
          "base_uri": "https://localhost:8080/"
        },
        "id": "clTOxmDLTFfX",
        "outputId": "fd71afd6-6526-4fcf-816f-7ea520aa4ce4"
      },
      "execution_count": 23,
      "outputs": [
        {
          "output_type": "execute_result",
          "data": {
            "text/plain": [
              "dict_keys(['name', 'city'])"
            ]
          },
          "metadata": {},
          "execution_count": 23
        }
      ]
    },
    {
      "cell_type": "code",
      "source": [
        "l[\"name\"][\"name_2\"][1]"
      ],
      "metadata": {
        "colab": {
          "base_uri": "https://localhost:8080/"
        },
        "id": "APvGP-ZiTJ0i",
        "outputId": "7695d068-e5a2-4c76-8099-ac6472a46c1c"
      },
      "execution_count": 26,
      "outputs": [
        {
          "output_type": "execute_result",
          "data": {
            "text/plain": [
              "2"
            ]
          },
          "metadata": {},
          "execution_count": 26
        }
      ]
    },
    {
      "cell_type": "code",
      "source": [
        "l[\"name\"][\"name_2\"][-1]"
      ],
      "metadata": {
        "colab": {
          "base_uri": "https://localhost:8080/"
        },
        "id": "14e-ms6GTS9N",
        "outputId": "4fb11590-8548-4c21-a898-ce1a89fc9e18"
      },
      "execution_count": 27,
      "outputs": [
        {
          "output_type": "execute_result",
          "data": {
            "text/plain": [
              "4"
            ]
          },
          "metadata": {},
          "execution_count": 27
        }
      ]
    },
    {
      "cell_type": "code",
      "source": [
        "l[\"city\"].add(\"mumbai\")"
      ],
      "metadata": {
        "id": "_2O0HYPDUBRe"
      },
      "execution_count": 30,
      "outputs": []
    },
    {
      "cell_type": "code",
      "source": [
        "l"
      ],
      "metadata": {
        "colab": {
          "base_uri": "https://localhost:8080/"
        },
        "id": "JFYKmx9MUFTB",
        "outputId": "74b62c0f-3483-411c-bee0-502aed61fd2b"
      },
      "execution_count": 31,
      "outputs": [
        {
          "output_type": "execute_result",
          "data": {
            "text/plain": [
              "{'name': {'name_2': [1, 2, 3, 4]}, 'city': {'mumbai', 'pune', 'satara'}}"
            ]
          },
          "metadata": {},
          "execution_count": 31
        }
      ]
    },
    {
      "cell_type": "code",
      "source": [
        "l.add(\"mumbai\")"
      ],
      "metadata": {
        "colab": {
          "base_uri": "https://localhost:8080/",
          "height": 148
        },
        "id": "UFgQBPSfTqoT",
        "outputId": "4ed688d7-fdfa-48bc-ba55-ccccac565a87"
      },
      "execution_count": 28,
      "outputs": [
        {
          "output_type": "error",
          "ename": "AttributeError",
          "evalue": "'dict' object has no attribute 'add'",
          "traceback": [
            "\u001b[0;31m---------------------------------------------------------------------------\u001b[0m",
            "\u001b[0;31mAttributeError\u001b[0m                            Traceback (most recent call last)",
            "\u001b[0;32m<ipython-input-28-aff4d68923bd>\u001b[0m in \u001b[0;36m<cell line: 1>\u001b[0;34m()\u001b[0m\n\u001b[0;32m----> 1\u001b[0;31m \u001b[0ml\u001b[0m\u001b[0;34m.\u001b[0m\u001b[0madd\u001b[0m\u001b[0;34m(\u001b[0m\u001b[0;34m\"mumbai\"\u001b[0m\u001b[0;34m)\u001b[0m\u001b[0;34m\u001b[0m\u001b[0;34m\u001b[0m\u001b[0m\n\u001b[0m",
            "\u001b[0;31mAttributeError\u001b[0m: 'dict' object has no attribute 'add'"
          ]
        }
      ]
    },
    {
      "cell_type": "markdown",
      "source": [
        "1.create one empty dict\n",
        "2.add 3 keys and 3 values\n",
        "3.create nested dict inside old dict\n",
        "4.print nested dict"
      ],
      "metadata": {
        "id": "BOT71HXCVWNf"
      }
    },
    {
      "cell_type": "code",
      "source": [
        "company_data = {\n",
        "    'Employee_1': {\n",
        "        'Name': 'John Doe',\n",
        "        'Department': 'HR',\n",
        "        'Skills': ['Communication', 'Management'],\n",
        "        'Salary': 50000\n",
        "    },\n",
        "    'Employee_2': {\n",
        "        'Name': 'Jane Smith',\n",
        "        'Department': 'IT',\n",
        "        'Skills': ['Python', 'Data Analysis', 'Machine Learning'],\n",
        "        'Salary': 70000\n",
        "    },\n",
        "    'Employee_3': {\n",
        "        'Name': 'Mark Lee',\n",
        "        'Department': 'Finance',\n",
        "        'Skills': ['Accounting', 'Excel'],\n",
        "        'Salary': 60000\n",
        "    }\n",
        "}"
      ],
      "metadata": {
        "id": "kPUMYr2YWTul"
      },
      "execution_count": 35,
      "outputs": []
    },
    {
      "cell_type": "code",
      "source": [
        "print(company_data)"
      ],
      "metadata": {
        "colab": {
          "base_uri": "https://localhost:8080/"
        },
        "id": "1YvlqdSjWVI9",
        "outputId": "38ba1a51-4c17-4276-8298-4bb94608b158"
      },
      "execution_count": 36,
      "outputs": [
        {
          "output_type": "stream",
          "name": "stdout",
          "text": [
            "{'Employee_1': {'Name': 'John Doe', 'Department': 'HR', 'Skills': ['Communication', 'Management'], 'Salary': 50000}, 'Employee_2': {'Name': 'Jane Smith', 'Department': 'IT', 'Skills': ['Python', 'Data Analysis', 'Machine Learning'], 'Salary': 70000}, 'Employee_3': {'Name': 'Mark Lee', 'Department': 'Finance', 'Skills': ['Accounting', 'Excel'], 'Salary': 60000}}\n"
          ]
        }
      ]
    },
    {
      "cell_type": "markdown",
      "source": [
        "\n",
        "\n",
        "\n",
        "1. How would you retrieve the department of `Employee_1`?\n",
        "2. How can you add a new skill, \"Project Management\", to `Employee_1`?\n",
        "3. How do you access the salary of `Employee_3`?\n",
        "4. How would you update the salary of `Employee_2` to 75000?\n",
        "5. How can you list all the skills of `Employee_2`?"
      ],
      "metadata": {
        "id": "lf2kmUNvWGfQ"
      }
    }
  ]
}